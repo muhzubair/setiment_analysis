{
  "nbformat": 4,
  "nbformat_minor": 0,
  "metadata": {
    "colab": {
      "provenance": []
    },
    "kernelspec": {
      "name": "python3",
      "display_name": "Python 3"
    },
    "language_info": {
      "name": "python"
    },
    "accelerator": "GPU",
    "gpuClass": "standard"
  },
  "cells": [
    {
      "cell_type": "code",
      "execution_count": 1,
      "metadata": {
        "id": "m_z5CPjv7RTz"
      },
      "outputs": [],
      "source": [
        "import math                      \n",
        "import matplotlib.pyplot as plt  \n",
        "import scipy                     \n",
        "import cv2                       \n",
        "import numpy as np               \n",
        "import glob                     \n",
        "import os                        \n",
        "import pandas as pd              \n",
        "import tensorflow as tf       \n",
        "import itertools\n",
        "import random\n",
        "from random import shuffle       \n",
        "from tqdm import tqdm           \n",
        "from PIL import Image\n",
        "from scipy import ndimage\n",
        "from pathlib import Path\n",
        "from sklearn.metrics import classification_report, confusion_matrix\n",
        "from sklearn import metrics\n",
        "from keras.layers import Conv2D, MaxPooling2D, Activation, Dropout, Flatten, Dense, GRU\n",
        "from keras.callbacks import ModelCheckpoint, EarlyStopping\n",
        "from keras.models import Sequential\n",
        "from keras.layers import Dense, Embedding, LSTM, SpatialDropout1D\n",
        "from sklearn.model_selection import train_test_split\n",
        "from sklearn.feature_extraction.text import CountVectorizer\n",
        "from keras.preprocessing.text import Tokenizer\n",
        "from keras_preprocessing.sequence import pad_sequences\n",
        "from keras.utils.np_utils import to_categorical\n",
        "import re"
      ]
    },
    {
      "cell_type": "markdown",
      "source": [
        "## Reading the dataset from link"
      ],
      "metadata": {
        "id": "KJWWfOGu80cC"
      }
    },
    {
      "cell_type": "code",
      "source": [
        "path = '/content/sentiment labelled sentences/'"
      ],
      "metadata": {
        "id": "qb9H_tco7pGc"
      },
      "execution_count": 2,
      "outputs": []
    },
    {
      "cell_type": "code",
      "source": [
        "zip_url = 'https://archive.ics.uci.edu/ml/machine-learning-databases/00331/sentiment%20labelled%20sentences.zip'\n",
        "import requests, zipfile, io\n",
        "r = requests.get(zip_url)\n",
        "z = zipfile.ZipFile(io.BytesIO(r.content))\n",
        "z.extractall()"
      ],
      "metadata": {
        "id": "m2yrAwEw75d_"
      },
      "execution_count": 3,
      "outputs": []
    },
    {
      "cell_type": "code",
      "source": [
        "df_yelp = pd.read_csv(path+'yelp_labelled.txt', sep = '\\t', header = None, names=['review', 'is_positive'])\n",
        "df_yelp.head()"
      ],
      "metadata": {
        "colab": {
          "base_uri": "https://localhost:8080/",
          "height": 206
        },
        "id": "S8MCeMJj9WB5",
        "outputId": "37b0f663-bfa9-4384-bd3e-7c6cdb4e28a7"
      },
      "execution_count": 4,
      "outputs": [
        {
          "output_type": "execute_result",
          "data": {
            "text/plain": [
              "                                              review  is_positive\n",
              "0                           Wow... Loved this place.            1\n",
              "1                                 Crust is not good.            0\n",
              "2          Not tasty and the texture was just nasty.            0\n",
              "3  Stopped by during the late May bank holiday of...            1\n",
              "4  The selection on the menu was great and so wer...            1"
            ],
            "text/html": [
              "\n",
              "  <div id=\"df-d0505e82-f977-4d6c-8ddd-5e226ad3611c\">\n",
              "    <div class=\"colab-df-container\">\n",
              "      <div>\n",
              "<style scoped>\n",
              "    .dataframe tbody tr th:only-of-type {\n",
              "        vertical-align: middle;\n",
              "    }\n",
              "\n",
              "    .dataframe tbody tr th {\n",
              "        vertical-align: top;\n",
              "    }\n",
              "\n",
              "    .dataframe thead th {\n",
              "        text-align: right;\n",
              "    }\n",
              "</style>\n",
              "<table border=\"1\" class=\"dataframe\">\n",
              "  <thead>\n",
              "    <tr style=\"text-align: right;\">\n",
              "      <th></th>\n",
              "      <th>review</th>\n",
              "      <th>is_positive</th>\n",
              "    </tr>\n",
              "  </thead>\n",
              "  <tbody>\n",
              "    <tr>\n",
              "      <th>0</th>\n",
              "      <td>Wow... Loved this place.</td>\n",
              "      <td>1</td>\n",
              "    </tr>\n",
              "    <tr>\n",
              "      <th>1</th>\n",
              "      <td>Crust is not good.</td>\n",
              "      <td>0</td>\n",
              "    </tr>\n",
              "    <tr>\n",
              "      <th>2</th>\n",
              "      <td>Not tasty and the texture was just nasty.</td>\n",
              "      <td>0</td>\n",
              "    </tr>\n",
              "    <tr>\n",
              "      <th>3</th>\n",
              "      <td>Stopped by during the late May bank holiday of...</td>\n",
              "      <td>1</td>\n",
              "    </tr>\n",
              "    <tr>\n",
              "      <th>4</th>\n",
              "      <td>The selection on the menu was great and so wer...</td>\n",
              "      <td>1</td>\n",
              "    </tr>\n",
              "  </tbody>\n",
              "</table>\n",
              "</div>\n",
              "      <button class=\"colab-df-convert\" onclick=\"convertToInteractive('df-d0505e82-f977-4d6c-8ddd-5e226ad3611c')\"\n",
              "              title=\"Convert this dataframe to an interactive table.\"\n",
              "              style=\"display:none;\">\n",
              "        \n",
              "  <svg xmlns=\"http://www.w3.org/2000/svg\" height=\"24px\"viewBox=\"0 0 24 24\"\n",
              "       width=\"24px\">\n",
              "    <path d=\"M0 0h24v24H0V0z\" fill=\"none\"/>\n",
              "    <path d=\"M18.56 5.44l.94 2.06.94-2.06 2.06-.94-2.06-.94-.94-2.06-.94 2.06-2.06.94zm-11 1L8.5 8.5l.94-2.06 2.06-.94-2.06-.94L8.5 2.5l-.94 2.06-2.06.94zm10 10l.94 2.06.94-2.06 2.06-.94-2.06-.94-.94-2.06-.94 2.06-2.06.94z\"/><path d=\"M17.41 7.96l-1.37-1.37c-.4-.4-.92-.59-1.43-.59-.52 0-1.04.2-1.43.59L10.3 9.45l-7.72 7.72c-.78.78-.78 2.05 0 2.83L4 21.41c.39.39.9.59 1.41.59.51 0 1.02-.2 1.41-.59l7.78-7.78 2.81-2.81c.8-.78.8-2.07 0-2.86zM5.41 20L4 18.59l7.72-7.72 1.47 1.35L5.41 20z\"/>\n",
              "  </svg>\n",
              "      </button>\n",
              "      \n",
              "  <style>\n",
              "    .colab-df-container {\n",
              "      display:flex;\n",
              "      flex-wrap:wrap;\n",
              "      gap: 12px;\n",
              "    }\n",
              "\n",
              "    .colab-df-convert {\n",
              "      background-color: #E8F0FE;\n",
              "      border: none;\n",
              "      border-radius: 50%;\n",
              "      cursor: pointer;\n",
              "      display: none;\n",
              "      fill: #1967D2;\n",
              "      height: 32px;\n",
              "      padding: 0 0 0 0;\n",
              "      width: 32px;\n",
              "    }\n",
              "\n",
              "    .colab-df-convert:hover {\n",
              "      background-color: #E2EBFA;\n",
              "      box-shadow: 0px 1px 2px rgba(60, 64, 67, 0.3), 0px 1px 3px 1px rgba(60, 64, 67, 0.15);\n",
              "      fill: #174EA6;\n",
              "    }\n",
              "\n",
              "    [theme=dark] .colab-df-convert {\n",
              "      background-color: #3B4455;\n",
              "      fill: #D2E3FC;\n",
              "    }\n",
              "\n",
              "    [theme=dark] .colab-df-convert:hover {\n",
              "      background-color: #434B5C;\n",
              "      box-shadow: 0px 1px 3px 1px rgba(0, 0, 0, 0.15);\n",
              "      filter: drop-shadow(0px 1px 2px rgba(0, 0, 0, 0.3));\n",
              "      fill: #FFFFFF;\n",
              "    }\n",
              "  </style>\n",
              "\n",
              "      <script>\n",
              "        const buttonEl =\n",
              "          document.querySelector('#df-d0505e82-f977-4d6c-8ddd-5e226ad3611c button.colab-df-convert');\n",
              "        buttonEl.style.display =\n",
              "          google.colab.kernel.accessAllowed ? 'block' : 'none';\n",
              "\n",
              "        async function convertToInteractive(key) {\n",
              "          const element = document.querySelector('#df-d0505e82-f977-4d6c-8ddd-5e226ad3611c');\n",
              "          const dataTable =\n",
              "            await google.colab.kernel.invokeFunction('convertToInteractive',\n",
              "                                                     [key], {});\n",
              "          if (!dataTable) return;\n",
              "\n",
              "          const docLinkHtml = 'Like what you see? Visit the ' +\n",
              "            '<a target=\"_blank\" href=https://colab.research.google.com/notebooks/data_table.ipynb>data table notebook</a>'\n",
              "            + ' to learn more about interactive tables.';\n",
              "          element.innerHTML = '';\n",
              "          dataTable['output_type'] = 'display_data';\n",
              "          await google.colab.output.renderOutput(dataTable, element);\n",
              "          const docLink = document.createElement('div');\n",
              "          docLink.innerHTML = docLinkHtml;\n",
              "          element.appendChild(docLink);\n",
              "        }\n",
              "      </script>\n",
              "    </div>\n",
              "  </div>\n",
              "  "
            ]
          },
          "metadata": {},
          "execution_count": 4
        }
      ]
    },
    {
      "cell_type": "code",
      "source": [
        "len(df_yelp)"
      ],
      "metadata": {
        "colab": {
          "base_uri": "https://localhost:8080/"
        },
        "id": "E00yehtTCbE7",
        "outputId": "aa5de77b-ba53-4662-f0c2-7cd797419d1b"
      },
      "execution_count": 5,
      "outputs": [
        {
          "output_type": "execute_result",
          "data": {
            "text/plain": [
              "1000"
            ]
          },
          "metadata": {},
          "execution_count": 5
        }
      ]
    },
    {
      "cell_type": "code",
      "source": [
        "# Making sure all reviews have lowercase\n",
        "df_yelp['review'] = df_yelp['review'].str.lower()"
      ],
      "metadata": {
        "id": "UTalVpkn9pw1"
      },
      "execution_count": 6,
      "outputs": []
    },
    {
      "cell_type": "code",
      "source": [
        "df_yelp.head()"
      ],
      "metadata": {
        "colab": {
          "base_uri": "https://localhost:8080/",
          "height": 206
        },
        "id": "NWvbtxNWbt4x",
        "outputId": "35c3ba71-bc04-4e5a-8163-2f1a97c0fcdf"
      },
      "execution_count": 7,
      "outputs": [
        {
          "output_type": "execute_result",
          "data": {
            "text/plain": [
              "                                              review  is_positive\n",
              "0                           wow... loved this place.            1\n",
              "1                                 crust is not good.            0\n",
              "2          not tasty and the texture was just nasty.            0\n",
              "3  stopped by during the late may bank holiday of...            1\n",
              "4  the selection on the menu was great and so wer...            1"
            ],
            "text/html": [
              "\n",
              "  <div id=\"df-ca4149a4-e069-427a-9b48-963c9a2d1daa\">\n",
              "    <div class=\"colab-df-container\">\n",
              "      <div>\n",
              "<style scoped>\n",
              "    .dataframe tbody tr th:only-of-type {\n",
              "        vertical-align: middle;\n",
              "    }\n",
              "\n",
              "    .dataframe tbody tr th {\n",
              "        vertical-align: top;\n",
              "    }\n",
              "\n",
              "    .dataframe thead th {\n",
              "        text-align: right;\n",
              "    }\n",
              "</style>\n",
              "<table border=\"1\" class=\"dataframe\">\n",
              "  <thead>\n",
              "    <tr style=\"text-align: right;\">\n",
              "      <th></th>\n",
              "      <th>review</th>\n",
              "      <th>is_positive</th>\n",
              "    </tr>\n",
              "  </thead>\n",
              "  <tbody>\n",
              "    <tr>\n",
              "      <th>0</th>\n",
              "      <td>wow... loved this place.</td>\n",
              "      <td>1</td>\n",
              "    </tr>\n",
              "    <tr>\n",
              "      <th>1</th>\n",
              "      <td>crust is not good.</td>\n",
              "      <td>0</td>\n",
              "    </tr>\n",
              "    <tr>\n",
              "      <th>2</th>\n",
              "      <td>not tasty and the texture was just nasty.</td>\n",
              "      <td>0</td>\n",
              "    </tr>\n",
              "    <tr>\n",
              "      <th>3</th>\n",
              "      <td>stopped by during the late may bank holiday of...</td>\n",
              "      <td>1</td>\n",
              "    </tr>\n",
              "    <tr>\n",
              "      <th>4</th>\n",
              "      <td>the selection on the menu was great and so wer...</td>\n",
              "      <td>1</td>\n",
              "    </tr>\n",
              "  </tbody>\n",
              "</table>\n",
              "</div>\n",
              "      <button class=\"colab-df-convert\" onclick=\"convertToInteractive('df-ca4149a4-e069-427a-9b48-963c9a2d1daa')\"\n",
              "              title=\"Convert this dataframe to an interactive table.\"\n",
              "              style=\"display:none;\">\n",
              "        \n",
              "  <svg xmlns=\"http://www.w3.org/2000/svg\" height=\"24px\"viewBox=\"0 0 24 24\"\n",
              "       width=\"24px\">\n",
              "    <path d=\"M0 0h24v24H0V0z\" fill=\"none\"/>\n",
              "    <path d=\"M18.56 5.44l.94 2.06.94-2.06 2.06-.94-2.06-.94-.94-2.06-.94 2.06-2.06.94zm-11 1L8.5 8.5l.94-2.06 2.06-.94-2.06-.94L8.5 2.5l-.94 2.06-2.06.94zm10 10l.94 2.06.94-2.06 2.06-.94-2.06-.94-.94-2.06-.94 2.06-2.06.94z\"/><path d=\"M17.41 7.96l-1.37-1.37c-.4-.4-.92-.59-1.43-.59-.52 0-1.04.2-1.43.59L10.3 9.45l-7.72 7.72c-.78.78-.78 2.05 0 2.83L4 21.41c.39.39.9.59 1.41.59.51 0 1.02-.2 1.41-.59l7.78-7.78 2.81-2.81c.8-.78.8-2.07 0-2.86zM5.41 20L4 18.59l7.72-7.72 1.47 1.35L5.41 20z\"/>\n",
              "  </svg>\n",
              "      </button>\n",
              "      \n",
              "  <style>\n",
              "    .colab-df-container {\n",
              "      display:flex;\n",
              "      flex-wrap:wrap;\n",
              "      gap: 12px;\n",
              "    }\n",
              "\n",
              "    .colab-df-convert {\n",
              "      background-color: #E8F0FE;\n",
              "      border: none;\n",
              "      border-radius: 50%;\n",
              "      cursor: pointer;\n",
              "      display: none;\n",
              "      fill: #1967D2;\n",
              "      height: 32px;\n",
              "      padding: 0 0 0 0;\n",
              "      width: 32px;\n",
              "    }\n",
              "\n",
              "    .colab-df-convert:hover {\n",
              "      background-color: #E2EBFA;\n",
              "      box-shadow: 0px 1px 2px rgba(60, 64, 67, 0.3), 0px 1px 3px 1px rgba(60, 64, 67, 0.15);\n",
              "      fill: #174EA6;\n",
              "    }\n",
              "\n",
              "    [theme=dark] .colab-df-convert {\n",
              "      background-color: #3B4455;\n",
              "      fill: #D2E3FC;\n",
              "    }\n",
              "\n",
              "    [theme=dark] .colab-df-convert:hover {\n",
              "      background-color: #434B5C;\n",
              "      box-shadow: 0px 1px 3px 1px rgba(0, 0, 0, 0.15);\n",
              "      filter: drop-shadow(0px 1px 2px rgba(0, 0, 0, 0.3));\n",
              "      fill: #FFFFFF;\n",
              "    }\n",
              "  </style>\n",
              "\n",
              "      <script>\n",
              "        const buttonEl =\n",
              "          document.querySelector('#df-ca4149a4-e069-427a-9b48-963c9a2d1daa button.colab-df-convert');\n",
              "        buttonEl.style.display =\n",
              "          google.colab.kernel.accessAllowed ? 'block' : 'none';\n",
              "\n",
              "        async function convertToInteractive(key) {\n",
              "          const element = document.querySelector('#df-ca4149a4-e069-427a-9b48-963c9a2d1daa');\n",
              "          const dataTable =\n",
              "            await google.colab.kernel.invokeFunction('convertToInteractive',\n",
              "                                                     [key], {});\n",
              "          if (!dataTable) return;\n",
              "\n",
              "          const docLinkHtml = 'Like what you see? Visit the ' +\n",
              "            '<a target=\"_blank\" href=https://colab.research.google.com/notebooks/data_table.ipynb>data table notebook</a>'\n",
              "            + ' to learn more about interactive tables.';\n",
              "          element.innerHTML = '';\n",
              "          dataTable['output_type'] = 'display_data';\n",
              "          await google.colab.output.renderOutput(dataTable, element);\n",
              "          const docLink = document.createElement('div');\n",
              "          docLink.innerHTML = docLinkHtml;\n",
              "          element.appendChild(docLink);\n",
              "        }\n",
              "      </script>\n",
              "    </div>\n",
              "  </div>\n",
              "  "
            ]
          },
          "metadata": {},
          "execution_count": 7
        }
      ]
    },
    {
      "cell_type": "code",
      "source": [
        "print(len(df_yelp[df_yelp['is_positive'] == 1]))\n",
        "print(len(df_yelp[df_yelp['is_positive'] == 0]))"
      ],
      "metadata": {
        "colab": {
          "base_uri": "https://localhost:8080/"
        },
        "id": "SOUYhvssdiwN",
        "outputId": "aa43f849-4399-4b9f-9b5a-1424b1e8ce7a"
      },
      "execution_count": null,
      "outputs": [
        {
          "output_type": "stream",
          "name": "stdout",
          "text": [
            "500\n",
            "500\n"
          ]
        }
      ]
    },
    {
      "cell_type": "markdown",
      "source": [
        "### LSTM/RNN Text classification"
      ],
      "metadata": {
        "id": "Ni0g_DsRekxq"
      }
    },
    {
      "cell_type": "code",
      "source": [
        "max_fatures = 2000\n",
        "tokenizer = Tokenizer(num_words=max_fatures, split=' ')\n",
        "tokenizer.fit_on_texts(df_yelp['review'].values)\n",
        "X = tokenizer.texts_to_sequences(df_yelp['review'].values)\n",
        "X = pad_sequences(X)\n",
        "X"
      ],
      "metadata": {
        "id": "DItGhRiEtQlF",
        "colab": {
          "base_uri": "https://localhost:8080/"
        },
        "outputId": "c5c34b2d-726b-4e92-f081-bae1ec4b9d88"
      },
      "execution_count": 8,
      "outputs": [
        {
          "output_type": "execute_result",
          "data": {
            "text/plain": [
              "array([[  0,   0,   0, ..., 165,   8,  15],\n",
              "       [  0,   0,   0, ...,   7,  12,  16],\n",
              "       [  0,   0,   0, ...,   4,  46, 430],\n",
              "       ...,\n",
              "       [  0,   0,   0, ...,  12,  38,  31],\n",
              "       [  0,   0,   0, ..., 137, 159,  40],\n",
              "       [  0,   0,   0, ..., 347,   1, 248]], dtype=int32)"
            ]
          },
          "metadata": {},
          "execution_count": 8
        }
      ]
    },
    {
      "cell_type": "code",
      "source": [
        "embed_dim = 128\n",
        "lstm_out = 196\n",
        "\n",
        "model = Sequential()\n",
        "model.add(Embedding(max_fatures, embed_dim,input_length = X.shape[1]))\n",
        "model.add(SpatialDropout1D(0.4))\n",
        "model.add(LSTM(lstm_out, dropout=0.2, recurrent_dropout=0.2))\n",
        "model.add(Dense(1,activation='sigmoid'))\n",
        "model.compile(loss = 'binary_crossentropy', optimizer='adam',metrics = ['accuracy'])\n",
        "print(model.summary())"
      ],
      "metadata": {
        "colab": {
          "base_uri": "https://localhost:8080/"
        },
        "id": "MRsVBjE-t1C4",
        "outputId": "e9f93bf5-976d-4644-b87b-29afd244cd9a"
      },
      "execution_count": null,
      "outputs": [
        {
          "output_type": "stream",
          "name": "stderr",
          "text": [
            "WARNING:tensorflow:Layer lstm_3 will not use cuDNN kernels since it doesn't meet the criteria. It will use a generic GPU kernel as fallback when running on GPU.\n"
          ]
        },
        {
          "output_type": "stream",
          "name": "stdout",
          "text": [
            "Model: \"sequential_3\"\n",
            "_________________________________________________________________\n",
            " Layer (type)                Output Shape              Param #   \n",
            "=================================================================\n",
            " embedding_3 (Embedding)     (None, 32, 128)           256000    \n",
            "                                                                 \n",
            " spatial_dropout1d_3 (Spatia  (None, 32, 128)          0         \n",
            " lDropout1D)                                                     \n",
            "                                                                 \n",
            " lstm_3 (LSTM)               (None, 196)               254800    \n",
            "                                                                 \n",
            " dense_6 (Dense)             (None, 1)                 197       \n",
            "                                                                 \n",
            "=================================================================\n",
            "Total params: 510,997\n",
            "Trainable params: 510,997\n",
            "Non-trainable params: 0\n",
            "_________________________________________________________________\n",
            "None\n"
          ]
        }
      ]
    },
    {
      "cell_type": "code",
      "source": [
        "Y = df_yelp['is_positive']"
      ],
      "metadata": {
        "id": "Cgf147mguZOA"
      },
      "execution_count": null,
      "outputs": []
    },
    {
      "cell_type": "code",
      "source": [
        "X_train, X_test, Y_train, Y_test = train_test_split(X, Y, test_size = 0.2, random_state = 42)\n",
        "print(X_train.shape,Y_train.shape)\n",
        "print(X_test.shape,Y_test.shape)"
      ],
      "metadata": {
        "colab": {
          "base_uri": "https://localhost:8080/"
        },
        "id": "qJcO5Z0CuOTE",
        "outputId": "29a87e7b-8eb7-4555-cb69-26958bf0db7e"
      },
      "execution_count": null,
      "outputs": [
        {
          "output_type": "stream",
          "name": "stdout",
          "text": [
            "(800, 32) (800,)\n",
            "(200, 32) (200,)\n"
          ]
        }
      ]
    },
    {
      "cell_type": "code",
      "source": [
        "batch_size = 32\n",
        "model.fit(X_train, Y_train, epochs = 7, batch_size=batch_size, verbose = 2)"
      ],
      "metadata": {
        "colab": {
          "base_uri": "https://localhost:8080/"
        },
        "id": "hi1A0jtzuOop",
        "outputId": "c80ac387-aefd-4099-8954-e08886433412"
      },
      "execution_count": null,
      "outputs": [
        {
          "output_type": "stream",
          "name": "stdout",
          "text": [
            "Epoch 1/7\n",
            "25/25 - 3s - loss: 0.6898 - accuracy: 0.5188 - 3s/epoch - 121ms/step\n",
            "Epoch 2/7\n",
            "25/25 - 1s - loss: 0.6145 - accuracy: 0.7337 - 1s/epoch - 55ms/step\n",
            "Epoch 3/7\n",
            "25/25 - 1s - loss: 0.4344 - accuracy: 0.8400 - 1s/epoch - 55ms/step\n",
            "Epoch 4/7\n",
            "25/25 - 1s - loss: 0.2608 - accuracy: 0.9150 - 1s/epoch - 54ms/step\n",
            "Epoch 5/7\n",
            "25/25 - 1s - loss: 0.1963 - accuracy: 0.9350 - 1s/epoch - 56ms/step\n",
            "Epoch 6/7\n",
            "25/25 - 1s - loss: 0.0979 - accuracy: 0.9725 - 1s/epoch - 54ms/step\n",
            "Epoch 7/7\n",
            "25/25 - 1s - loss: 0.0570 - accuracy: 0.9912 - 1s/epoch - 54ms/step\n"
          ]
        },
        {
          "output_type": "execute_result",
          "data": {
            "text/plain": [
              "<keras.callbacks.History at 0x7f58f80870a0>"
            ]
          },
          "metadata": {},
          "execution_count": 62
        }
      ]
    },
    {
      "cell_type": "code",
      "source": [
        "train_score, train_accuracy = model.evaluate(X_train, Y_train, verbose = 2, batch_size = batch_size)\n",
        "test_loss, test_accuracy= model.evaluate(X_test, Y_test, verbose = 2, batch_size = batch_size)\n",
        "print(f'Train Score for the first model: {round(train_score, 4)}')\n",
        "print(f'Train accuracy for the first model: {round(train_accuracy*100, 2)}%')\n",
        "print(f'Test loss for the first model: {round(test_loss, 4)}')\n",
        "print(f'Test accuracy for the first model: {round(test_accuracy*100, 2)}%')"
      ],
      "metadata": {
        "colab": {
          "base_uri": "https://localhost:8080/"
        },
        "id": "jGPWHOMnS8S5",
        "outputId": "837e7b6e-11a9-462f-bef6-fcf1feae9d30"
      },
      "execution_count": null,
      "outputs": [
        {
          "output_type": "stream",
          "name": "stdout",
          "text": [
            "25/25 - 0s - loss: 0.0324 - accuracy: 0.9950 - 284ms/epoch - 11ms/step\n",
            "7/7 - 0s - loss: 0.6142 - accuracy: 0.7850 - 90ms/epoch - 13ms/step\n",
            "Train Score for the first model: 0.0324\n",
            "Train accuracy for the first model: 99.5%\n",
            "Test loss for the first model: 0.6142\n",
            "Test accuracy for the first model: 78.5%\n"
          ]
        }
      ]
    },
    {
      "cell_type": "code",
      "source": [
        "results = model.predict(X_test, verbose = 2, batch_size = batch_size)"
      ],
      "metadata": {
        "colab": {
          "base_uri": "https://localhost:8080/"
        },
        "id": "KBiaD8frwx67",
        "outputId": "ec13c547-23be-47ee-88a3-5ae6a29fa1d4"
      },
      "execution_count": null,
      "outputs": [
        {
          "output_type": "stream",
          "name": "stdout",
          "text": [
            "7/7 - 0s - 91ms/epoch - 13ms/step\n"
          ]
        }
      ]
    },
    {
      "cell_type": "code",
      "source": [
        "# Get predictions on test set\n",
        "\n",
        "results_pred = [int(np.round(i)) for i in results]\n",
        "\n",
        "x_test_word = tokenizer.sequences_to_texts(X_test)\n",
        "\n",
        "test_results = pd.DataFrame({\n",
        "    'Review': x_test_word,\n",
        "    'Prediction': results_pred\n",
        "    , 'Actual': Y_test.reset_index(drop=True)\n",
        "})\n",
        "\n",
        "test_results['Correct'] = test_results['Prediction'] == test_results['Actual']\n",
        "misclassified = test_results[test_results['Correct']==False]\n",
        "misclassified.head(10)\n"
      ],
      "metadata": {
        "colab": {
          "base_uri": "https://localhost:8080/",
          "height": 363
        },
        "id": "2egVRuH_wzHw",
        "outputId": "7eac0a81-c115-4d86-f8ef-67e2c0dec503"
      },
      "execution_count": null,
      "outputs": [
        {
          "output_type": "execute_result",
          "data": {
            "text/plain": [
              "                                               Review  Prediction  Actual  \\\n",
              "0                     if you haven't gone here go now           0       1   \n",
              "14  the meat was pretty dry i had the sliced brisk...           1       0   \n",
              "16  i went to bachi burger on a friend's recommend...           0       1   \n",
              "22                    they dropped more than the ball           1       0   \n",
              "26  the only good thing was our waiter he was very...           0       1   \n",
              "28  the buffet at bellagio was far from what i ant...           1       0   \n",
              "30             this place is like chipotle but better           0       1   \n",
              "40  i go to far too many places and i've never see...           1       0   \n",
              "41                                 will be back again           0       1   \n",
              "45  the goat taco didn't skimp on the meat and wow...           0       1   \n",
              "\n",
              "    Correct  \n",
              "0     False  \n",
              "14    False  \n",
              "16    False  \n",
              "22    False  \n",
              "26    False  \n",
              "28    False  \n",
              "30    False  \n",
              "40    False  \n",
              "41    False  \n",
              "45    False  "
            ],
            "text/html": [
              "\n",
              "  <div id=\"df-670bd42a-e96c-49b2-9bc4-1f2b5826ef71\">\n",
              "    <div class=\"colab-df-container\">\n",
              "      <div>\n",
              "<style scoped>\n",
              "    .dataframe tbody tr th:only-of-type {\n",
              "        vertical-align: middle;\n",
              "    }\n",
              "\n",
              "    .dataframe tbody tr th {\n",
              "        vertical-align: top;\n",
              "    }\n",
              "\n",
              "    .dataframe thead th {\n",
              "        text-align: right;\n",
              "    }\n",
              "</style>\n",
              "<table border=\"1\" class=\"dataframe\">\n",
              "  <thead>\n",
              "    <tr style=\"text-align: right;\">\n",
              "      <th></th>\n",
              "      <th>Review</th>\n",
              "      <th>Prediction</th>\n",
              "      <th>Actual</th>\n",
              "      <th>Correct</th>\n",
              "    </tr>\n",
              "  </thead>\n",
              "  <tbody>\n",
              "    <tr>\n",
              "      <th>0</th>\n",
              "      <td>if you haven't gone here go now</td>\n",
              "      <td>0</td>\n",
              "      <td>1</td>\n",
              "      <td>False</td>\n",
              "    </tr>\n",
              "    <tr>\n",
              "      <th>14</th>\n",
              "      <td>the meat was pretty dry i had the sliced brisk...</td>\n",
              "      <td>1</td>\n",
              "      <td>0</td>\n",
              "      <td>False</td>\n",
              "    </tr>\n",
              "    <tr>\n",
              "      <th>16</th>\n",
              "      <td>i went to bachi burger on a friend's recommend...</td>\n",
              "      <td>0</td>\n",
              "      <td>1</td>\n",
              "      <td>False</td>\n",
              "    </tr>\n",
              "    <tr>\n",
              "      <th>22</th>\n",
              "      <td>they dropped more than the ball</td>\n",
              "      <td>1</td>\n",
              "      <td>0</td>\n",
              "      <td>False</td>\n",
              "    </tr>\n",
              "    <tr>\n",
              "      <th>26</th>\n",
              "      <td>the only good thing was our waiter he was very...</td>\n",
              "      <td>0</td>\n",
              "      <td>1</td>\n",
              "      <td>False</td>\n",
              "    </tr>\n",
              "    <tr>\n",
              "      <th>28</th>\n",
              "      <td>the buffet at bellagio was far from what i ant...</td>\n",
              "      <td>1</td>\n",
              "      <td>0</td>\n",
              "      <td>False</td>\n",
              "    </tr>\n",
              "    <tr>\n",
              "      <th>30</th>\n",
              "      <td>this place is like chipotle but better</td>\n",
              "      <td>0</td>\n",
              "      <td>1</td>\n",
              "      <td>False</td>\n",
              "    </tr>\n",
              "    <tr>\n",
              "      <th>40</th>\n",
              "      <td>i go to far too many places and i've never see...</td>\n",
              "      <td>1</td>\n",
              "      <td>0</td>\n",
              "      <td>False</td>\n",
              "    </tr>\n",
              "    <tr>\n",
              "      <th>41</th>\n",
              "      <td>will be back again</td>\n",
              "      <td>0</td>\n",
              "      <td>1</td>\n",
              "      <td>False</td>\n",
              "    </tr>\n",
              "    <tr>\n",
              "      <th>45</th>\n",
              "      <td>the goat taco didn't skimp on the meat and wow...</td>\n",
              "      <td>0</td>\n",
              "      <td>1</td>\n",
              "      <td>False</td>\n",
              "    </tr>\n",
              "  </tbody>\n",
              "</table>\n",
              "</div>\n",
              "      <button class=\"colab-df-convert\" onclick=\"convertToInteractive('df-670bd42a-e96c-49b2-9bc4-1f2b5826ef71')\"\n",
              "              title=\"Convert this dataframe to an interactive table.\"\n",
              "              style=\"display:none;\">\n",
              "        \n",
              "  <svg xmlns=\"http://www.w3.org/2000/svg\" height=\"24px\"viewBox=\"0 0 24 24\"\n",
              "       width=\"24px\">\n",
              "    <path d=\"M0 0h24v24H0V0z\" fill=\"none\"/>\n",
              "    <path d=\"M18.56 5.44l.94 2.06.94-2.06 2.06-.94-2.06-.94-.94-2.06-.94 2.06-2.06.94zm-11 1L8.5 8.5l.94-2.06 2.06-.94-2.06-.94L8.5 2.5l-.94 2.06-2.06.94zm10 10l.94 2.06.94-2.06 2.06-.94-2.06-.94-.94-2.06-.94 2.06-2.06.94z\"/><path d=\"M17.41 7.96l-1.37-1.37c-.4-.4-.92-.59-1.43-.59-.52 0-1.04.2-1.43.59L10.3 9.45l-7.72 7.72c-.78.78-.78 2.05 0 2.83L4 21.41c.39.39.9.59 1.41.59.51 0 1.02-.2 1.41-.59l7.78-7.78 2.81-2.81c.8-.78.8-2.07 0-2.86zM5.41 20L4 18.59l7.72-7.72 1.47 1.35L5.41 20z\"/>\n",
              "  </svg>\n",
              "      </button>\n",
              "      \n",
              "  <style>\n",
              "    .colab-df-container {\n",
              "      display:flex;\n",
              "      flex-wrap:wrap;\n",
              "      gap: 12px;\n",
              "    }\n",
              "\n",
              "    .colab-df-convert {\n",
              "      background-color: #E8F0FE;\n",
              "      border: none;\n",
              "      border-radius: 50%;\n",
              "      cursor: pointer;\n",
              "      display: none;\n",
              "      fill: #1967D2;\n",
              "      height: 32px;\n",
              "      padding: 0 0 0 0;\n",
              "      width: 32px;\n",
              "    }\n",
              "\n",
              "    .colab-df-convert:hover {\n",
              "      background-color: #E2EBFA;\n",
              "      box-shadow: 0px 1px 2px rgba(60, 64, 67, 0.3), 0px 1px 3px 1px rgba(60, 64, 67, 0.15);\n",
              "      fill: #174EA6;\n",
              "    }\n",
              "\n",
              "    [theme=dark] .colab-df-convert {\n",
              "      background-color: #3B4455;\n",
              "      fill: #D2E3FC;\n",
              "    }\n",
              "\n",
              "    [theme=dark] .colab-df-convert:hover {\n",
              "      background-color: #434B5C;\n",
              "      box-shadow: 0px 1px 3px 1px rgba(0, 0, 0, 0.15);\n",
              "      filter: drop-shadow(0px 1px 2px rgba(0, 0, 0, 0.3));\n",
              "      fill: #FFFFFF;\n",
              "    }\n",
              "  </style>\n",
              "\n",
              "      <script>\n",
              "        const buttonEl =\n",
              "          document.querySelector('#df-670bd42a-e96c-49b2-9bc4-1f2b5826ef71 button.colab-df-convert');\n",
              "        buttonEl.style.display =\n",
              "          google.colab.kernel.accessAllowed ? 'block' : 'none';\n",
              "\n",
              "        async function convertToInteractive(key) {\n",
              "          const element = document.querySelector('#df-670bd42a-e96c-49b2-9bc4-1f2b5826ef71');\n",
              "          const dataTable =\n",
              "            await google.colab.kernel.invokeFunction('convertToInteractive',\n",
              "                                                     [key], {});\n",
              "          if (!dataTable) return;\n",
              "\n",
              "          const docLinkHtml = 'Like what you see? Visit the ' +\n",
              "            '<a target=\"_blank\" href=https://colab.research.google.com/notebooks/data_table.ipynb>data table notebook</a>'\n",
              "            + ' to learn more about interactive tables.';\n",
              "          element.innerHTML = '';\n",
              "          dataTable['output_type'] = 'display_data';\n",
              "          await google.colab.output.renderOutput(dataTable, element);\n",
              "          const docLink = document.createElement('div');\n",
              "          docLink.innerHTML = docLinkHtml;\n",
              "          element.appendChild(docLink);\n",
              "        }\n",
              "      </script>\n",
              "    </div>\n",
              "  </div>\n",
              "  "
            ]
          },
          "metadata": {},
          "execution_count": 67
        }
      ]
    },
    {
      "cell_type": "markdown",
      "source": [
        "Second model"
      ],
      "metadata": {
        "id": "7aCSmFYbyb6D"
      }
    },
    {
      "cell_type": "code",
      "source": [
        "max_fatures2 = 2000\n",
        "tokenizer2 = Tokenizer(num_words=max_fatures, split=' ')\n",
        "tokenizer2.fit_on_texts(df_yelp['review'].values)\n",
        "X2 = tokenizer.texts_to_sequences(df_yelp['review'].values)\n",
        "X2 = pad_sequences(X2)"
      ],
      "metadata": {
        "id": "b1OugDDm3Ft4"
      },
      "execution_count": null,
      "outputs": []
    },
    {
      "cell_type": "code",
      "source": [
        "embed_dim2 = 140\n",
        "lstm_out2 = 200\n",
        "\n",
        "model2 = Sequential()\n",
        "model2.add(Embedding(max_fatures2, embed_dim2,input_length = X2.shape[1]))\n",
        "model2.add(SpatialDropout1D(0.2))\n",
        "model2.add(LSTM(lstm_out2, dropout=0.4, recurrent_dropout=0.2))\n",
        "model2.add(Dense(20,activation='sigmoid'))\n",
        "model2.add(Dense(1,activation='sigmoid'))\n",
        "model2.compile(loss = 'binary_crossentropy', optimizer='adam',metrics = ['accuracy'])\n",
        "print(model2.summary())"
      ],
      "metadata": {
        "id": "L-xtNVoEMC0Z",
        "colab": {
          "base_uri": "https://localhost:8080/"
        },
        "outputId": "c30fc938-24ee-46e2-d195-f0f057ffc413"
      },
      "execution_count": null,
      "outputs": [
        {
          "output_type": "stream",
          "name": "stderr",
          "text": [
            "WARNING:tensorflow:Layer lstm_6 will not use cuDNN kernels since it doesn't meet the criteria. It will use a generic GPU kernel as fallback when running on GPU.\n"
          ]
        },
        {
          "output_type": "stream",
          "name": "stdout",
          "text": [
            "Model: \"sequential_6\"\n",
            "_________________________________________________________________\n",
            " Layer (type)                Output Shape              Param #   \n",
            "=================================================================\n",
            " embedding_6 (Embedding)     (None, 32, 140)           280000    \n",
            "                                                                 \n",
            " spatial_dropout1d_6 (Spatia  (None, 32, 140)          0         \n",
            " lDropout1D)                                                     \n",
            "                                                                 \n",
            " lstm_6 (LSTM)               (None, 200)               272800    \n",
            "                                                                 \n",
            " dense_11 (Dense)            (None, 20)                4020      \n",
            "                                                                 \n",
            " dense_12 (Dense)            (None, 1)                 21        \n",
            "                                                                 \n",
            "=================================================================\n",
            "Total params: 556,841\n",
            "Trainable params: 556,841\n",
            "Non-trainable params: 0\n",
            "_________________________________________________________________\n",
            "None\n"
          ]
        }
      ]
    },
    {
      "cell_type": "code",
      "source": [
        "X_train2, X_test2, Y_train2, Y_test2 = train_test_split(X, Y, test_size = 0.3, random_state = 50)\n",
        "print(X_train2.shape,Y_train2.shape)\n",
        "print(X_test2.shape,Y_test2.shape)"
      ],
      "metadata": {
        "colab": {
          "base_uri": "https://localhost:8080/"
        },
        "id": "PU0WXqu6yZ0Y",
        "outputId": "49827e64-4581-49a1-a870-e83ef2afdfb8"
      },
      "execution_count": null,
      "outputs": [
        {
          "output_type": "stream",
          "name": "stdout",
          "text": [
            "(700, 32) (700,)\n",
            "(300, 32) (300,)\n"
          ]
        }
      ]
    },
    {
      "cell_type": "code",
      "source": [
        "batch_size2 = 40\n",
        "model2.fit(X_train2, Y_train2, epochs = 5, batch_size=batch_size2, verbose = 2)"
      ],
      "metadata": {
        "colab": {
          "base_uri": "https://localhost:8080/"
        },
        "id": "NMXpSo6W0YRS",
        "outputId": "a55b4112-dd44-4285-c94e-acffe8c14d95"
      },
      "execution_count": null,
      "outputs": [
        {
          "output_type": "stream",
          "name": "stdout",
          "text": [
            "Epoch 1/5\n",
            "18/18 - 16s - loss: 0.7628 - accuracy: 0.4871 - 16s/epoch - 889ms/step\n",
            "Epoch 2/5\n",
            "18/18 - 2s - loss: 0.6980 - accuracy: 0.5071 - 2s/epoch - 132ms/step\n",
            "Epoch 3/5\n",
            "18/18 - 2s - loss: 0.6901 - accuracy: 0.5243 - 2s/epoch - 131ms/step\n",
            "Epoch 4/5\n",
            "18/18 - 2s - loss: 0.6855 - accuracy: 0.5486 - 2s/epoch - 133ms/step\n",
            "Epoch 5/5\n",
            "18/18 - 2s - loss: 0.6659 - accuracy: 0.6086 - 2s/epoch - 132ms/step\n"
          ]
        },
        {
          "output_type": "execute_result",
          "data": {
            "text/plain": [
              "<keras.callbacks.History at 0x7f58f7e95040>"
            ]
          },
          "metadata": {},
          "execution_count": 80
        }
      ]
    },
    {
      "cell_type": "code",
      "source": [
        "train_score2, train_accuracy2 = model2.evaluate(X_train2, Y_train2, verbose = 2, batch_size = batch_size2)\n",
        "test_loss2, test_accuracy2= model2.evaluate(X_test2, Y_test2, verbose = 2, batch_size = batch_size2)\n",
        "print(f'Train Score for the second model: {round(train_score2, 4)}')\n",
        "print(f'Train accuracy for the second model: {round(train_accuracy2*100, 2)}%')\n",
        "print(f'Test loss for the second model: {round(test_loss2, 4)}')\n",
        "print(f'Test accuracy for the second model: {round(test_accuracy2*100, 2)}%')"
      ],
      "metadata": {
        "colab": {
          "base_uri": "https://localhost:8080/"
        },
        "id": "gjIjDu5h42Xk",
        "outputId": "e3d5f5b4-b551-479c-ca27-1ba8b991da48"
      },
      "execution_count": null,
      "outputs": [
        {
          "output_type": "stream",
          "name": "stdout",
          "text": [
            "18/18 - 0s - loss: 0.6414 - accuracy: 0.8057 - 207ms/epoch - 11ms/step\n",
            "8/8 - 0s - loss: 0.6793 - accuracy: 0.5967 - 102ms/epoch - 13ms/step\n",
            "Train Score for the second model: 0.6414\n",
            "Train accuracy for the second model: 80.57%\n",
            "Test loss for the second model: 0.6793\n",
            "Test accuracy for the second model: 59.67%\n"
          ]
        }
      ]
    },
    {
      "cell_type": "code",
      "source": [
        "validation_size2 = 150\n",
        "\n",
        "X_validate2 = X_test2[-validation_size2:]\n",
        "Y_validate2 = Y_test2[-validation_size2:]\n",
        "X_test2 = X_test2[-validation_size2:]\n",
        "Y_test2 = Y_test2[-validation_size2:]\n",
        "score2,acc2 = model2.evaluate(X_test2, Y_test2, verbose = 2, batch_size = batch_size2)\n",
        "print(\"score: %.2f\" % (score2))\n",
        "print(\"acc: %.2f\" % (acc2))"
      ],
      "metadata": {
        "colab": {
          "base_uri": "https://localhost:8080/"
        },
        "id": "RbqSwR7r6OM8",
        "outputId": "c17ec711-00a8-42a6-9214-d4cd0a2dfb6c"
      },
      "execution_count": null,
      "outputs": [
        {
          "output_type": "stream",
          "name": "stdout",
          "text": [
            "4/4 - 0s - loss: 0.6752 - accuracy: 0.6267 - 59ms/epoch - 15ms/step\n",
            "score: 0.68\n",
            "acc: 0.63\n"
          ]
        }
      ]
    },
    {
      "cell_type": "code",
      "source": [
        "results2 = model2.predict(X_test2, verbose = 2, batch_size = batch_size2)"
      ],
      "metadata": {
        "colab": {
          "base_uri": "https://localhost:8080/"
        },
        "id": "kOKxdbOe6vby",
        "outputId": "5bbaa2f1-44c7-484d-a1f0-44a3def9c979"
      },
      "execution_count": null,
      "outputs": [
        {
          "output_type": "stream",
          "name": "stdout",
          "text": [
            "4/4 - 0s - 263ms/epoch - 66ms/step\n"
          ]
        }
      ]
    },
    {
      "cell_type": "code",
      "source": [
        "# Get predictions on test set\n",
        "\n",
        "results_pred2 = [int(np.round(i)) for i in results2]\n",
        "\n",
        "x_test_word2 = tokenizer.sequences_to_texts(X_test2)\n",
        "\n",
        "test_results2 = pd.DataFrame({\n",
        "    'Review': x_test_word2,\n",
        "    'Prediction': results_pred2\n",
        "    , 'Actual': Y_test2.reset_index(drop=True)\n",
        "})\n",
        "\n",
        "test_results2['Correct'] = test_results2['Prediction'] == test_results2['Actual']\n",
        "misclassified2 = test_results2[test_results2['Correct']==False]\n",
        "misclassified2.head(10)"
      ],
      "metadata": {
        "colab": {
          "base_uri": "https://localhost:8080/",
          "height": 363
        },
        "id": "hFz05rn-63nz",
        "outputId": "02c85563-8f72-49ab-cdf0-b7355242df44"
      },
      "execution_count": null,
      "outputs": [
        {
          "output_type": "execute_result",
          "data": {
            "text/plain": [
              "                                               Review  Prediction  Actual  \\\n",
              "1   this was my first and only vegas buffet and it...           0       1   \n",
              "2   nice blanket of moz over top but i feel like t...           0       1   \n",
              "3   their regular toasted bread was equally satisf...           0       1   \n",
              "4   both of them were truly unbelievably good and ...           0       1   \n",
              "5                                     it was not good           1       0   \n",
              "21  on the up side their cafe serves really good food           0       1   \n",
              "22  i love the fact that everything on their menu ...           0       1   \n",
              "25  the sweet potato fries were very good and seas...           0       1   \n",
              "33  the food is delicious and just spicy enough so...           0       1   \n",
              "35  service was excellent and prices are pretty re...           0       1   \n",
              "\n",
              "    Correct  \n",
              "1     False  \n",
              "2     False  \n",
              "3     False  \n",
              "4     False  \n",
              "5     False  \n",
              "21    False  \n",
              "22    False  \n",
              "25    False  \n",
              "33    False  \n",
              "35    False  "
            ],
            "text/html": [
              "\n",
              "  <div id=\"df-8b7cbd3e-2a9e-4bd8-9d49-5996c4d7eb9b\">\n",
              "    <div class=\"colab-df-container\">\n",
              "      <div>\n",
              "<style scoped>\n",
              "    .dataframe tbody tr th:only-of-type {\n",
              "        vertical-align: middle;\n",
              "    }\n",
              "\n",
              "    .dataframe tbody tr th {\n",
              "        vertical-align: top;\n",
              "    }\n",
              "\n",
              "    .dataframe thead th {\n",
              "        text-align: right;\n",
              "    }\n",
              "</style>\n",
              "<table border=\"1\" class=\"dataframe\">\n",
              "  <thead>\n",
              "    <tr style=\"text-align: right;\">\n",
              "      <th></th>\n",
              "      <th>Review</th>\n",
              "      <th>Prediction</th>\n",
              "      <th>Actual</th>\n",
              "      <th>Correct</th>\n",
              "    </tr>\n",
              "  </thead>\n",
              "  <tbody>\n",
              "    <tr>\n",
              "      <th>1</th>\n",
              "      <td>this was my first and only vegas buffet and it...</td>\n",
              "      <td>0</td>\n",
              "      <td>1</td>\n",
              "      <td>False</td>\n",
              "    </tr>\n",
              "    <tr>\n",
              "      <th>2</th>\n",
              "      <td>nice blanket of moz over top but i feel like t...</td>\n",
              "      <td>0</td>\n",
              "      <td>1</td>\n",
              "      <td>False</td>\n",
              "    </tr>\n",
              "    <tr>\n",
              "      <th>3</th>\n",
              "      <td>their regular toasted bread was equally satisf...</td>\n",
              "      <td>0</td>\n",
              "      <td>1</td>\n",
              "      <td>False</td>\n",
              "    </tr>\n",
              "    <tr>\n",
              "      <th>4</th>\n",
              "      <td>both of them were truly unbelievably good and ...</td>\n",
              "      <td>0</td>\n",
              "      <td>1</td>\n",
              "      <td>False</td>\n",
              "    </tr>\n",
              "    <tr>\n",
              "      <th>5</th>\n",
              "      <td>it was not good</td>\n",
              "      <td>1</td>\n",
              "      <td>0</td>\n",
              "      <td>False</td>\n",
              "    </tr>\n",
              "    <tr>\n",
              "      <th>21</th>\n",
              "      <td>on the up side their cafe serves really good food</td>\n",
              "      <td>0</td>\n",
              "      <td>1</td>\n",
              "      <td>False</td>\n",
              "    </tr>\n",
              "    <tr>\n",
              "      <th>22</th>\n",
              "      <td>i love the fact that everything on their menu ...</td>\n",
              "      <td>0</td>\n",
              "      <td>1</td>\n",
              "      <td>False</td>\n",
              "    </tr>\n",
              "    <tr>\n",
              "      <th>25</th>\n",
              "      <td>the sweet potato fries were very good and seas...</td>\n",
              "      <td>0</td>\n",
              "      <td>1</td>\n",
              "      <td>False</td>\n",
              "    </tr>\n",
              "    <tr>\n",
              "      <th>33</th>\n",
              "      <td>the food is delicious and just spicy enough so...</td>\n",
              "      <td>0</td>\n",
              "      <td>1</td>\n",
              "      <td>False</td>\n",
              "    </tr>\n",
              "    <tr>\n",
              "      <th>35</th>\n",
              "      <td>service was excellent and prices are pretty re...</td>\n",
              "      <td>0</td>\n",
              "      <td>1</td>\n",
              "      <td>False</td>\n",
              "    </tr>\n",
              "  </tbody>\n",
              "</table>\n",
              "</div>\n",
              "      <button class=\"colab-df-convert\" onclick=\"convertToInteractive('df-8b7cbd3e-2a9e-4bd8-9d49-5996c4d7eb9b')\"\n",
              "              title=\"Convert this dataframe to an interactive table.\"\n",
              "              style=\"display:none;\">\n",
              "        \n",
              "  <svg xmlns=\"http://www.w3.org/2000/svg\" height=\"24px\"viewBox=\"0 0 24 24\"\n",
              "       width=\"24px\">\n",
              "    <path d=\"M0 0h24v24H0V0z\" fill=\"none\"/>\n",
              "    <path d=\"M18.56 5.44l.94 2.06.94-2.06 2.06-.94-2.06-.94-.94-2.06-.94 2.06-2.06.94zm-11 1L8.5 8.5l.94-2.06 2.06-.94-2.06-.94L8.5 2.5l-.94 2.06-2.06.94zm10 10l.94 2.06.94-2.06 2.06-.94-2.06-.94-.94-2.06-.94 2.06-2.06.94z\"/><path d=\"M17.41 7.96l-1.37-1.37c-.4-.4-.92-.59-1.43-.59-.52 0-1.04.2-1.43.59L10.3 9.45l-7.72 7.72c-.78.78-.78 2.05 0 2.83L4 21.41c.39.39.9.59 1.41.59.51 0 1.02-.2 1.41-.59l7.78-7.78 2.81-2.81c.8-.78.8-2.07 0-2.86zM5.41 20L4 18.59l7.72-7.72 1.47 1.35L5.41 20z\"/>\n",
              "  </svg>\n",
              "      </button>\n",
              "      \n",
              "  <style>\n",
              "    .colab-df-container {\n",
              "      display:flex;\n",
              "      flex-wrap:wrap;\n",
              "      gap: 12px;\n",
              "    }\n",
              "\n",
              "    .colab-df-convert {\n",
              "      background-color: #E8F0FE;\n",
              "      border: none;\n",
              "      border-radius: 50%;\n",
              "      cursor: pointer;\n",
              "      display: none;\n",
              "      fill: #1967D2;\n",
              "      height: 32px;\n",
              "      padding: 0 0 0 0;\n",
              "      width: 32px;\n",
              "    }\n",
              "\n",
              "    .colab-df-convert:hover {\n",
              "      background-color: #E2EBFA;\n",
              "      box-shadow: 0px 1px 2px rgba(60, 64, 67, 0.3), 0px 1px 3px 1px rgba(60, 64, 67, 0.15);\n",
              "      fill: #174EA6;\n",
              "    }\n",
              "\n",
              "    [theme=dark] .colab-df-convert {\n",
              "      background-color: #3B4455;\n",
              "      fill: #D2E3FC;\n",
              "    }\n",
              "\n",
              "    [theme=dark] .colab-df-convert:hover {\n",
              "      background-color: #434B5C;\n",
              "      box-shadow: 0px 1px 3px 1px rgba(0, 0, 0, 0.15);\n",
              "      filter: drop-shadow(0px 1px 2px rgba(0, 0, 0, 0.3));\n",
              "      fill: #FFFFFF;\n",
              "    }\n",
              "  </style>\n",
              "\n",
              "      <script>\n",
              "        const buttonEl =\n",
              "          document.querySelector('#df-8b7cbd3e-2a9e-4bd8-9d49-5996c4d7eb9b button.colab-df-convert');\n",
              "        buttonEl.style.display =\n",
              "          google.colab.kernel.accessAllowed ? 'block' : 'none';\n",
              "\n",
              "        async function convertToInteractive(key) {\n",
              "          const element = document.querySelector('#df-8b7cbd3e-2a9e-4bd8-9d49-5996c4d7eb9b');\n",
              "          const dataTable =\n",
              "            await google.colab.kernel.invokeFunction('convertToInteractive',\n",
              "                                                     [key], {});\n",
              "          if (!dataTable) return;\n",
              "\n",
              "          const docLinkHtml = 'Like what you see? Visit the ' +\n",
              "            '<a target=\"_blank\" href=https://colab.research.google.com/notebooks/data_table.ipynb>data table notebook</a>'\n",
              "            + ' to learn more about interactive tables.';\n",
              "          element.innerHTML = '';\n",
              "          dataTable['output_type'] = 'display_data';\n",
              "          await google.colab.output.renderOutput(dataTable, element);\n",
              "          const docLink = document.createElement('div');\n",
              "          docLink.innerHTML = docLinkHtml;\n",
              "          element.appendChild(docLink);\n",
              "        }\n",
              "      </script>\n",
              "    </div>\n",
              "  </div>\n",
              "  "
            ]
          },
          "metadata": {},
          "execution_count": 85
        }
      ]
    },
    {
      "cell_type": "markdown",
      "source": [
        "Third model"
      ],
      "metadata": {
        "id": "99wPYhHD7xjO"
      }
    },
    {
      "cell_type": "code",
      "source": [
        "max_fatures3 = 2000\n",
        "tokenizer3 = Tokenizer(num_words=max_fatures, split=' ')\n",
        "tokenizer3.fit_on_texts(df_yelp['review'].values)\n",
        "X3 = tokenizer.texts_to_sequences(df_yelp['review'].values)\n",
        "X3 = pad_sequences(X3)"
      ],
      "metadata": {
        "id": "vV6JrQjD7xH0"
      },
      "execution_count": null,
      "outputs": []
    },
    {
      "cell_type": "code",
      "source": [
        "embed_dim3 = 150\n",
        "lstm_out3 = 190\n",
        "\n",
        "model3 = Sequential()\n",
        "model3.add(Embedding(max_fatures3, embed_dim3,input_length = X3.shape[1]))\n",
        "model3.add(SpatialDropout1D(0.6))\n",
        "model3.add(LSTM(lstm_out3, dropout=0.8, recurrent_dropout=0.7))\n",
        "model3.add(Dense(10,activation='sigmoid'))\n",
        "model3.add(Dense(5,activation='sigmoid'))\n",
        "model3.add(Dense(1,activation='sigmoid'))\n",
        "model3.compile(loss = 'binary_crossentropy', optimizer='adam',metrics = ['accuracy'])\n",
        "print(model3.summary())"
      ],
      "metadata": {
        "colab": {
          "base_uri": "https://localhost:8080/"
        },
        "id": "sR68GrWk8MXl",
        "outputId": "e3780120-0172-4c48-e257-861e0d700299"
      },
      "execution_count": null,
      "outputs": [
        {
          "output_type": "stream",
          "name": "stderr",
          "text": [
            "WARNING:tensorflow:Layer lstm_7 will not use cuDNN kernels since it doesn't meet the criteria. It will use a generic GPU kernel as fallback when running on GPU.\n"
          ]
        },
        {
          "output_type": "stream",
          "name": "stdout",
          "text": [
            "Model: \"sequential_7\"\n",
            "_________________________________________________________________\n",
            " Layer (type)                Output Shape              Param #   \n",
            "=================================================================\n",
            " embedding_7 (Embedding)     (None, 32, 150)           300000    \n",
            "                                                                 \n",
            " spatial_dropout1d_7 (Spatia  (None, 32, 150)          0         \n",
            " lDropout1D)                                                     \n",
            "                                                                 \n",
            " lstm_7 (LSTM)               (None, 190)               259160    \n",
            "                                                                 \n",
            " dense_13 (Dense)            (None, 10)                1910      \n",
            "                                                                 \n",
            " dense_14 (Dense)            (None, 5)                 55        \n",
            "                                                                 \n",
            " dense_15 (Dense)            (None, 1)                 6         \n",
            "                                                                 \n",
            "=================================================================\n",
            "Total params: 561,131\n",
            "Trainable params: 561,131\n",
            "Non-trainable params: 0\n",
            "_________________________________________________________________\n",
            "None\n"
          ]
        }
      ]
    },
    {
      "cell_type": "code",
      "source": [
        "X_train3, X_test3, Y_train3, Y_test3 = train_test_split(X, Y, test_size = 0.2, random_state = 50)\n",
        "print(X_train3.shape,Y_train3.shape)\n",
        "print(X_test3.shape,Y_test3.shape)"
      ],
      "metadata": {
        "colab": {
          "base_uri": "https://localhost:8080/"
        },
        "id": "euzRnr3Q83s3",
        "outputId": "15c853ba-c875-4c15-e573-113d7a19c765"
      },
      "execution_count": null,
      "outputs": [
        {
          "output_type": "stream",
          "name": "stdout",
          "text": [
            "(800, 32) (800,)\n",
            "(200, 32) (200,)\n"
          ]
        }
      ]
    },
    {
      "cell_type": "code",
      "source": [
        "batch_size3 = 50\n",
        "model3.fit(X_train3, Y_train3, epochs = 7, batch_size=batch_size3, verbose = 2)"
      ],
      "metadata": {
        "colab": {
          "base_uri": "https://localhost:8080/"
        },
        "id": "T9VRjEiA9IwZ",
        "outputId": "706ee687-5740-4f5d-98d9-c86b0a07760e"
      },
      "execution_count": null,
      "outputs": [
        {
          "output_type": "stream",
          "name": "stdout",
          "text": [
            "Epoch 1/7\n",
            "16/16 - 3s - loss: 0.6939 - accuracy: 0.5063 - 3s/epoch - 165ms/step\n",
            "Epoch 2/7\n",
            "16/16 - 1s - loss: 0.6929 - accuracy: 0.5063 - 905ms/epoch - 57ms/step\n",
            "Epoch 3/7\n",
            "16/16 - 1s - loss: 0.6921 - accuracy: 0.5125 - 903ms/epoch - 56ms/step\n",
            "Epoch 4/7\n",
            "16/16 - 1s - loss: 0.6897 - accuracy: 0.5738 - 937ms/epoch - 59ms/step\n",
            "Epoch 5/7\n",
            "16/16 - 1s - loss: 0.6850 - accuracy: 0.5938 - 938ms/epoch - 59ms/step\n",
            "Epoch 6/7\n",
            "16/16 - 1s - loss: 0.6715 - accuracy: 0.6550 - 907ms/epoch - 57ms/step\n",
            "Epoch 7/7\n",
            "16/16 - 1s - loss: 0.6594 - accuracy: 0.6925 - 935ms/epoch - 58ms/step\n"
          ]
        },
        {
          "output_type": "execute_result",
          "data": {
            "text/plain": [
              "<keras.callbacks.History at 0x7f590fd56460>"
            ]
          },
          "metadata": {},
          "execution_count": 89
        }
      ]
    },
    {
      "cell_type": "code",
      "source": [
        "train_score3, train_accuracy3 = model3.evaluate(X_train3, Y_train3, verbose = 2, batch_size = batch_size3)\n",
        "test_loss3, test_accuracy3= model3.evaluate(X_test3, Y_test3, verbose = 2, batch_size = batch_size3)\n",
        "print(f'Train Score for the third model: {round(train_score3, 4)}')\n",
        "print(f'Train accuracy for the third model: {round(train_accuracy3*100, 2)}%')\n",
        "print(f'Test loss for the third model: {round(test_loss3, 4)}')\n",
        "print(f'Test accuracy for the third model: {round(test_accuracy3*100, 2)}%')"
      ],
      "metadata": {
        "colab": {
          "base_uri": "https://localhost:8080/"
        },
        "id": "tpD5TnHu9Wjp",
        "outputId": "687f01e9-84c2-4db7-d9c2-0241e1ab9b12"
      },
      "execution_count": null,
      "outputs": [
        {
          "output_type": "stream",
          "name": "stdout",
          "text": [
            "16/16 - 0s - loss: 0.6405 - accuracy: 0.8150 - 197ms/epoch - 12ms/step\n",
            "4/4 - 0s - loss: 0.6616 - accuracy: 0.6900 - 57ms/epoch - 14ms/step\n",
            "Train Score for the third model: 0.6405\n",
            "Train accuracy for the third model: 81.5%\n",
            "Test loss for the third model: 0.6616\n",
            "Test accuracy for the third model: 69.0%\n"
          ]
        }
      ]
    },
    {
      "cell_type": "code",
      "source": [
        "results3 = model3.predict(X_test3, verbose = 2, batch_size = batch_size3)"
      ],
      "metadata": {
        "colab": {
          "base_uri": "https://localhost:8080/"
        },
        "id": "CBpH5jj3-R4C",
        "outputId": "84257593-9309-416c-ffda-b460c819e59e"
      },
      "execution_count": null,
      "outputs": [
        {
          "output_type": "stream",
          "name": "stdout",
          "text": [
            "4/4 - 0s - 265ms/epoch - 66ms/step\n"
          ]
        }
      ]
    },
    {
      "cell_type": "code",
      "source": [
        "# Get predictions on test set\n",
        "\n",
        "results_pred3 = [int(np.round(i)) for i in results3]\n",
        "\n",
        "x_test_word3 = tokenizer.sequences_to_texts(X_test3)\n",
        "\n",
        "test_results3 = pd.DataFrame({\n",
        "    'Review': x_test_word3,\n",
        "    'Prediction': results_pred3\n",
        "    , 'Actual': Y_test3.reset_index(drop=True)\n",
        "})\n",
        "\n",
        "test_results3['Correct'] = test_results3['Prediction'] == test_results3['Actual']\n",
        "misclassified3 = test_results3[test_results3['Correct']==False]\n",
        "misclassified3.head(10)"
      ],
      "metadata": {
        "colab": {
          "base_uri": "https://localhost:8080/",
          "height": 363
        },
        "id": "DZeybPHQ-edc",
        "outputId": "d7e097d6-2dc0-457e-9356-0a377f9318a5"
      },
      "execution_count": null,
      "outputs": [
        {
          "output_type": "execute_result",
          "data": {
            "text/plain": [
              "                                               Review  Prediction  Actual  \\\n",
              "4                         i in the bathroom mid lunch           1       0   \n",
              "9   i always order from the vegetarian menu during...           0       1   \n",
              "14                    i hope this place sticks around           0       1   \n",
              "16  the sweet potato tots were good but the onion ...           0       1   \n",
              "17      i will come back here every time i'm in vegas           0       1   \n",
              "24  we had a group of 70 when we claimed we would ...           0       1   \n",
              "30        first time there and might just be the last           1       0   \n",
              "33  every time i eat here i see caring teamwork to...           0       1   \n",
              "36    i can assure you that you won't be disappointed           0       1   \n",
              "50                   the food came out at a good pace           0       1   \n",
              "\n",
              "    Correct  \n",
              "4     False  \n",
              "9     False  \n",
              "14    False  \n",
              "16    False  \n",
              "17    False  \n",
              "24    False  \n",
              "30    False  \n",
              "33    False  \n",
              "36    False  \n",
              "50    False  "
            ],
            "text/html": [
              "\n",
              "  <div id=\"df-302e9a56-ad06-40c0-a028-528f6d2c38df\">\n",
              "    <div class=\"colab-df-container\">\n",
              "      <div>\n",
              "<style scoped>\n",
              "    .dataframe tbody tr th:only-of-type {\n",
              "        vertical-align: middle;\n",
              "    }\n",
              "\n",
              "    .dataframe tbody tr th {\n",
              "        vertical-align: top;\n",
              "    }\n",
              "\n",
              "    .dataframe thead th {\n",
              "        text-align: right;\n",
              "    }\n",
              "</style>\n",
              "<table border=\"1\" class=\"dataframe\">\n",
              "  <thead>\n",
              "    <tr style=\"text-align: right;\">\n",
              "      <th></th>\n",
              "      <th>Review</th>\n",
              "      <th>Prediction</th>\n",
              "      <th>Actual</th>\n",
              "      <th>Correct</th>\n",
              "    </tr>\n",
              "  </thead>\n",
              "  <tbody>\n",
              "    <tr>\n",
              "      <th>4</th>\n",
              "      <td>i in the bathroom mid lunch</td>\n",
              "      <td>1</td>\n",
              "      <td>0</td>\n",
              "      <td>False</td>\n",
              "    </tr>\n",
              "    <tr>\n",
              "      <th>9</th>\n",
              "      <td>i always order from the vegetarian menu during...</td>\n",
              "      <td>0</td>\n",
              "      <td>1</td>\n",
              "      <td>False</td>\n",
              "    </tr>\n",
              "    <tr>\n",
              "      <th>14</th>\n",
              "      <td>i hope this place sticks around</td>\n",
              "      <td>0</td>\n",
              "      <td>1</td>\n",
              "      <td>False</td>\n",
              "    </tr>\n",
              "    <tr>\n",
              "      <th>16</th>\n",
              "      <td>the sweet potato tots were good but the onion ...</td>\n",
              "      <td>0</td>\n",
              "      <td>1</td>\n",
              "      <td>False</td>\n",
              "    </tr>\n",
              "    <tr>\n",
              "      <th>17</th>\n",
              "      <td>i will come back here every time i'm in vegas</td>\n",
              "      <td>0</td>\n",
              "      <td>1</td>\n",
              "      <td>False</td>\n",
              "    </tr>\n",
              "    <tr>\n",
              "      <th>24</th>\n",
              "      <td>we had a group of 70 when we claimed we would ...</td>\n",
              "      <td>0</td>\n",
              "      <td>1</td>\n",
              "      <td>False</td>\n",
              "    </tr>\n",
              "    <tr>\n",
              "      <th>30</th>\n",
              "      <td>first time there and might just be the last</td>\n",
              "      <td>1</td>\n",
              "      <td>0</td>\n",
              "      <td>False</td>\n",
              "    </tr>\n",
              "    <tr>\n",
              "      <th>33</th>\n",
              "      <td>every time i eat here i see caring teamwork to...</td>\n",
              "      <td>0</td>\n",
              "      <td>1</td>\n",
              "      <td>False</td>\n",
              "    </tr>\n",
              "    <tr>\n",
              "      <th>36</th>\n",
              "      <td>i can assure you that you won't be disappointed</td>\n",
              "      <td>0</td>\n",
              "      <td>1</td>\n",
              "      <td>False</td>\n",
              "    </tr>\n",
              "    <tr>\n",
              "      <th>50</th>\n",
              "      <td>the food came out at a good pace</td>\n",
              "      <td>0</td>\n",
              "      <td>1</td>\n",
              "      <td>False</td>\n",
              "    </tr>\n",
              "  </tbody>\n",
              "</table>\n",
              "</div>\n",
              "      <button class=\"colab-df-convert\" onclick=\"convertToInteractive('df-302e9a56-ad06-40c0-a028-528f6d2c38df')\"\n",
              "              title=\"Convert this dataframe to an interactive table.\"\n",
              "              style=\"display:none;\">\n",
              "        \n",
              "  <svg xmlns=\"http://www.w3.org/2000/svg\" height=\"24px\"viewBox=\"0 0 24 24\"\n",
              "       width=\"24px\">\n",
              "    <path d=\"M0 0h24v24H0V0z\" fill=\"none\"/>\n",
              "    <path d=\"M18.56 5.44l.94 2.06.94-2.06 2.06-.94-2.06-.94-.94-2.06-.94 2.06-2.06.94zm-11 1L8.5 8.5l.94-2.06 2.06-.94-2.06-.94L8.5 2.5l-.94 2.06-2.06.94zm10 10l.94 2.06.94-2.06 2.06-.94-2.06-.94-.94-2.06-.94 2.06-2.06.94z\"/><path d=\"M17.41 7.96l-1.37-1.37c-.4-.4-.92-.59-1.43-.59-.52 0-1.04.2-1.43.59L10.3 9.45l-7.72 7.72c-.78.78-.78 2.05 0 2.83L4 21.41c.39.39.9.59 1.41.59.51 0 1.02-.2 1.41-.59l7.78-7.78 2.81-2.81c.8-.78.8-2.07 0-2.86zM5.41 20L4 18.59l7.72-7.72 1.47 1.35L5.41 20z\"/>\n",
              "  </svg>\n",
              "      </button>\n",
              "      \n",
              "  <style>\n",
              "    .colab-df-container {\n",
              "      display:flex;\n",
              "      flex-wrap:wrap;\n",
              "      gap: 12px;\n",
              "    }\n",
              "\n",
              "    .colab-df-convert {\n",
              "      background-color: #E8F0FE;\n",
              "      border: none;\n",
              "      border-radius: 50%;\n",
              "      cursor: pointer;\n",
              "      display: none;\n",
              "      fill: #1967D2;\n",
              "      height: 32px;\n",
              "      padding: 0 0 0 0;\n",
              "      width: 32px;\n",
              "    }\n",
              "\n",
              "    .colab-df-convert:hover {\n",
              "      background-color: #E2EBFA;\n",
              "      box-shadow: 0px 1px 2px rgba(60, 64, 67, 0.3), 0px 1px 3px 1px rgba(60, 64, 67, 0.15);\n",
              "      fill: #174EA6;\n",
              "    }\n",
              "\n",
              "    [theme=dark] .colab-df-convert {\n",
              "      background-color: #3B4455;\n",
              "      fill: #D2E3FC;\n",
              "    }\n",
              "\n",
              "    [theme=dark] .colab-df-convert:hover {\n",
              "      background-color: #434B5C;\n",
              "      box-shadow: 0px 1px 3px 1px rgba(0, 0, 0, 0.15);\n",
              "      filter: drop-shadow(0px 1px 2px rgba(0, 0, 0, 0.3));\n",
              "      fill: #FFFFFF;\n",
              "    }\n",
              "  </style>\n",
              "\n",
              "      <script>\n",
              "        const buttonEl =\n",
              "          document.querySelector('#df-302e9a56-ad06-40c0-a028-528f6d2c38df button.colab-df-convert');\n",
              "        buttonEl.style.display =\n",
              "          google.colab.kernel.accessAllowed ? 'block' : 'none';\n",
              "\n",
              "        async function convertToInteractive(key) {\n",
              "          const element = document.querySelector('#df-302e9a56-ad06-40c0-a028-528f6d2c38df');\n",
              "          const dataTable =\n",
              "            await google.colab.kernel.invokeFunction('convertToInteractive',\n",
              "                                                     [key], {});\n",
              "          if (!dataTable) return;\n",
              "\n",
              "          const docLinkHtml = 'Like what you see? Visit the ' +\n",
              "            '<a target=\"_blank\" href=https://colab.research.google.com/notebooks/data_table.ipynb>data table notebook</a>'\n",
              "            + ' to learn more about interactive tables.';\n",
              "          element.innerHTML = '';\n",
              "          dataTable['output_type'] = 'display_data';\n",
              "          await google.colab.output.renderOutput(dataTable, element);\n",
              "          const docLink = document.createElement('div');\n",
              "          docLink.innerHTML = docLinkHtml;\n",
              "          element.appendChild(docLink);\n",
              "        }\n",
              "      </script>\n",
              "    </div>\n",
              "  </div>\n",
              "  "
            ]
          },
          "metadata": {},
          "execution_count": 93
        }
      ]
    },
    {
      "cell_type": "markdown",
      "source": [
        "##Sentiment Prediction using naive Bayes"
      ],
      "metadata": {
        "id": "kcY-bcesIbql"
      }
    },
    {
      "cell_type": "markdown",
      "source": [
        "### Multinomial NaiveBayes"
      ],
      "metadata": {
        "id": "pNq2jrKbMwqK"
      }
    },
    {
      "cell_type": "code",
      "source": [
        "X = df_yelp['review']\n",
        "Y = df_yelp['is_positive']"
      ],
      "metadata": {
        "id": "cFlmJ6LDIhVs"
      },
      "execution_count": null,
      "outputs": []
    },
    {
      "cell_type": "code",
      "source": [
        "# Converting reviews into count vectors \n",
        "from sklearn.feature_extraction.text import CountVectorizer\n",
        "cv = CountVectorizer()\n",
        "cv.fit(X)\n",
        "print(cv.vocabulary_)"
      ],
      "metadata": {
        "id": "DdJv1YW3IviF",
        "colab": {
          "base_uri": "https://localhost:8080/"
        },
        "outputId": "1a0193ad-0557-4e69-b1f3-f8e2341bbaa1"
      },
      "execution_count": null,
      "outputs": [
        {
          "output_type": "stream",
          "name": "stdout",
          "text": [
            "{'wow': 2012, 'loved': 1046, 'this': 1798, 'place': 1330, 'crust': 427, 'is': 943, 'not': 1195, 'good': 764, 'tasty': 1761, 'and': 64, 'the': 1780, 'texture': 1774, 'was': 1940, 'just': 967, 'nasty': 1169, 'stopped': 1699, 'by': 264, 'during': 557, 'late': 991, 'may': 1087, 'bank': 139, 'holiday': 867, 'off': 1208, 'rick': 1488, 'steve': 1691, 'recommendation': 1444, 'it': 945, 'selection': 1560, 'on': 1221, 'menu': 1110, 'great': 778, 'so': 1630, 'were': 1965, 'prices': 1374, 'now': 1198, 'am': 57, 'getting': 746, 'angry': 66, 'want': 1934, 'my': 1162, 'damn': 439, 'pho': 1316, 'honeslty': 870, 'didn': 484, 'taste': 1757, 'that': 1778, 'fresh': 713, 'potatoes': 1362, 'like': 1016, 'rubber': 1505, 'you': 2027, 'could': 396, 'tell': 1766, 'they': 1788, 'had': 805, 'been': 167, 'made': 1061, 'up': 1883, 'ahead': 44, 'of': 1207, 'time': 1809, 'being': 173, 'kept': 969, 'under': 1866, 'warmer': 1938, 'fries': 719, 'too': 1824, 'touch': 1833, 'service': 1573, 'very': 1911, 'prompt': 1386, 'would': 2009, 'go': 757, 'back': 130, 'cashier': 295, 'no': 1188, 'care': 286, 'what': 1967, 'ever': 606, 'to': 1814, 'say': 1538, 'still': 1693, 'ended': 586, 'wayyy': 1953, 'overpriced': 1257, 'tried': 1846, 'cape': 282, 'cod': 349, 'ravoli': 1426, 'chicken': 321, 'with': 1991, 'cranberry': 412, 'mmmm': 1133, 'disgusted': 508, 'because': 164, 'pretty': 1371, 'sure': 1738, 'human': 892, 'hair': 807, 'shocked': 1587, 'signs': 1605, 'indicate': 924, 'cash': 293, 'only': 1226, 'highly': 858, 'recommended': 1445, 'waitress': 1929, 'little': 1026, 'slow': 1620, 'in': 916, 'worth': 2008, 'your': 2028, 'let': 1006, 'alone': 53, 'vegas': 1899, 'did': 483, 'at': 105, 'all': 49, 'burrittos': 255, 'blah': 199, 'food': 697, 'amazing': 58, 'also': 54, 'cute': 437, 'less': 1005, 'interior': 939, 'beautiful': 161, 'performed': 1306, 'right': 1490, 'red': 1447, 'velvet': 1904, 'cake': 270, 'ohhh': 1213, 'stuff': 1711, 'never': 1180, 'brought': 240, 'salad': 1516, 'we': 1954, 'asked': 102, 'for': 700, 'hole': 866, 'wall': 1932, 'has': 825, 'mexican': 1115, 'street': 1704, 'tacos': 1747, 'friendly': 717, 'staff': 1674, 'took': 1825, 'an': 63, 'hour': 885, 'get': 744, 'our': 1243, 'tables': 1745, 'restaurant': 1472, 'luke': 1056, 'warm': 1937, 'sever': 1578, 'running': 1508, 'around': 94, 'he': 834, 'totally': 1831, 'overwhelmed': 1258, 'worst': 2007, 'salmon': 1518, 'sashimi': 1529, 'there': 1786, 'are': 89, 'combos': 357, 'burger': 252, 'beer': 168, '23': 10, 'which': 1974, 'decent': 448, 'deal': 446, 'final': 669, 'blow': 208, 'found': 706, 'accident': 28, 'be': 156, 'happier': 820, 'seems': 1558, 'quick': 1408, 'grab': 771, 'bite': 195, 'some': 1635, 'familiar': 641, 'pub': 1394, 'but': 261, 'do': 515, 'yourself': 2029, 'favor': 652, 'look': 1036, 'elsewhere': 580, 'overall': 1254, 'lot': 1042, 'redeeming': 1448, 'quality': 1406, 'inexpensive': 927, 'ample': 62, 'portions': 1357, 'poor': 1352, 'waiter': 1927, 'me': 1090, 'feel': 655, 'stupid': 1713, 'every': 607, 'came': 276, 'table': 1744, 'first': 677, 'visit': 1917, 'hiro': 862, 'delight': 466, 'sucks': 1724, 'shrimp': 1600, 'tender': 1769, 'moist': 1135, 'enough': 591, 'drag': 535, 'into': 940, 'establishment': 598, 'again': 42, 'hard': 822, 'judge': 963, 'whether': 1973, 'these': 1787, 'sides': 1603, 'grossed': 791, 'out': 1245, 'melted': 1107, 'styrofoam': 1715, 'eat': 562, 'fear': 654, 'sick': 1601, 'positive': 1358, 'note': 1196, 'server': 1570, 'attentive': 112, 'provided': 1391, 'frozen': 722, 'pucks': 1397, 'disgust': 507, 'people': 1301, 'behind': 172, 'register': 1455, 'thing': 1791, 'prime': 1377, 'rib': 1484, 'dessert': 479, 'section': 1555, 'bad': 132, 'generic': 741, 'beef': 166, 'cooked': 386, 'if': 904, 'sandwich': 1526, 'any': 70, 'firehouse': 676, 'side': 1602, 'greek': 781, 'dressing': 541, 'pita': 1327, 'hummus': 894, 'refreshing': 1452, 'ordered': 1235, 'duck': 553, 'rare': 1416, 'pink': 1325, 'inside': 932, 'nice': 1183, 'char': 305, 'outside': 1249, 'after': 40, 'us': 1887, 'when': 1970, 'realized': 1432, 'husband': 898, 'left': 1000, 'his': 863, 'sunglasses': 1735, 'their': 1782, 'chow': 331, 'mein': 1104, 'have': 830, 'horrible': 879, 'attitudes': 113, 'towards': 1836, 'customers': 434, 'talk': 1751, 'down': 531, 'each': 560, 'one': 1223, 'don': 520, 'enjoy': 588, 'portion': 1356, 'huge': 891, 'servers': 1571, 'wonderful': 1995, 'imaginative': 909, 'heart': 839, 'attack': 110, 'grill': 785, 'downtown': 534, 'absolutely': 26, 'flat': 681, 'lined': 1022, 'excuse': 616, 'much': 1153, 'seafood': 1546, 'strings': 1707, 'pasta': 1285, 'bottom': 221, 'amount': 61, 'sauce': 1534, 'over': 1253, 'power': 1365, 'scallop': 1541, 'perfectly': 1305, 'ripped': 1493, 'banana': 138, 'petrified': 1312, 'tasteless': 1759, 'least': 996, 'think': 1793, 'refill': 1450, 'water': 1948, 'before': 170, 'struggle': 1710, 'wave': 1950, '10': 1, 'minutes': 1126, 'receives': 1440, 'stars': 1678, 'appetizers': 86, 'cocktails': 347, 'handmade': 816, 'delicious': 464, 'definitely': 459, 'here': 851, 'glad': 752, 'give': 749, 'military': 1121, 'discount': 504, 'always': 56, 'dos': 525, 'gringos': 787, 'update': 1884, 'went': 1964, 'second': 1554, 'as': 100, 'got': 768, 'apparently': 82, 'heard': 838, 'salt': 1521, 'batter': 153, 'fish': 678, 'chewy': 320, 'way': 1951, 'finish': 674, 'included': 918, 'tastings': 1760, 'drinks': 546, 'jeff': 953, 'above': 24, 'beyond': 183, 'expected': 620, 'really': 1433, 'rice': 1486, 'meh': 1103, '30': 11, 'min': 1124, 'milkshake': 1123, 'nothing': 1197, 'more': 1143, 'than': 1776, 'chocolate': 328, 'milk': 1122, 'guess': 797, 'should': 1595, 'known': 979, 'suck': 1721, 'excalibur': 612, 'use': 1888, 'common': 361, 'sense': 1564, 'dish': 510, 'quite': 1411, 'appalling': 81, 'value': 1894, 'well': 1963, 'times': 1810, 'customer': 433, 'sweet': 1742, 'potato': 1361, 'seasoned': 1549, 'today': 1817, 've': 1896, 'lunch': 1058, 'buffet': 246, 'cheated': 311, 'wasting': 1945, 'eating': 564, 'opportunity': 1230, 'going': 760, 'company': 363, 'coming': 360, 'experiencing': 624, 'underwhelming': 1869, 'relationship': 1459, 'where': 1972, 'both': 219, 'parties': 1281, 'can': 278, 'wait': 1925, 'other': 1239, 'person': 1309, 'ask': 101, 'break': 231, 'walked': 1931, 'smelled': 1625, 'old': 1216, 'grease': 776, 'trap': 1842, 'others': 1240, 'turkey': 1858, 'roast': 1495, 'bland': 201, 'pan': 1270, 'cakes': 271, 'everyone': 608, 'raving': 1425, 'about': 23, 'sugary': 1727, 'disaster': 502, 'tailored': 1748, 'palate': 1267, 'six': 1615, 'year': 2021, 'love': 1045, 'spring': 1672, 'rolls': 1500, 'oh': 1212, 'yummy': 2033, 'try': 1853, 'meat': 1095, 'ratio': 1423, 'tenders': 1770, 'unsatisfying': 1878, 'omelets': 1219, 'die': 485, 'everything': 609, 'summary': 1731, 'largely': 986, 'disappointing': 499, 'dining': 490, 'experience': 622, 'sexy': 1581, 'party': 1282, 'mouth': 1147, 're': 1427, 'outrageously': 1247, 'flirting': 688, 'hottest': 884, 'rock': 1497, 'casino': 296, 'will': 1984, 'step': 1689, 'forward': 705, 'best': 180, 'breakfast': 232, 'bye': 265, 'tip': 1812, 'lady': 984, 'll': 1030, 'arrived': 96, 'quickly': 1409, 'cafe': 268, 'serves': 1572, 'fantastic': 646, 'wife': 1982, 'loves': 1050, 'roasted': 1496, 'garlic': 736, 'bone': 215, 'marrow': 1083, 'added': 38, 'extra': 628, 'meal': 1091, 'another': 68, 'helpful': 849, 'bloddy': 205, 'mary': 1085, 'town': 1837, 'price': 1372, 'cannot': 280, 'beat': 159, 'mussels': 1160, 'wine': 1985, 'reduction': 1449, 'dishes': 511, 'better': 181, 'buffets': 247, 'tigerlilly': 1808, 'afternoon': 41, 'bartender': 145, 'personable': 1310, 'ambience': 60, 'music': 1159, 'playing': 1340, 'next': 1182, 'trip': 1848, 'sooooo': 1645, 'real': 1431, 'sushi': 1741, 'lovers': 1049, 'honest': 871, 'yama': 2018, '40min': 15, 'passed': 1283, 'between': 182, 'ordering': 1236, 'arriving': 98, 'wasn': 1942, 'busy': 260, 'thai': 1775, 'spicy': 1666, 'check': 312, 'gross': 790, 'atmosphere': 107, 'kind': 976, 'mess': 1113, 'steak': 1685, 'although': 55, 'liked': 1017, 'sound': 1650, 'actual': 36, 'bit': 193, 'know': 978, 'how': 888, 'managed': 1074, 'served': 1569, 'blandest': 202, 'eaten': 563, 'preparing': 1369, 'indian': 923, 'cuisine': 431, 'boot': 217, 'worries': 2005, 'fine': 672, 'guys': 801, 'steaks': 1687, 'loving': 1051, 'son': 1641, 'who': 1977, 'places': 1332, 'said': 1515, 'thought': 1802, 'venture': 1906, 'further': 731, 'away': 120, 'hit': 864, 'spot': 1669, 'night': 1185, 'host': 881, 'lack': 980, 'word': 1997, 'bitches': 194, 'liking': 1019, 'number': 1200, 'reasons': 1437, 'waste': 1943, 'reviewing': 1479, 'leave': 998, 'phenomenal': 1314, 'ambiance': 59, 'wouldn': 2010, 'return': 1474, 'venturing': 1907, 'strip': 1708, 'pork': 1355, 'belly': 177, 'mediocre': 1099, 'penne': 1300, 'vodka': 1919, 'excellent': 614, 'including': 919, 'massive': 1086, 'meatloaf': 1097, 'crispy': 421, 'wrap': 2013, 'delish': 469, 'tuna': 1857, 'melt': 1106, 'burgers': 253, 'management': 1075, 'rude': 1506, 'nyc': 1203, 'bagels': 133, 'selections': 1561, 'cream': 416, 'cheese': 315, 'lox': 1053, 'capers': 283, 'even': 602, 'subway': 1718, 'fact': 634, 'come': 358, 'meet': 1102, 'expectations': 619, 'seriously': 1566, 'solid': 1633, 'bars': 144, 'extremely': 630, 'many': 1079, 'restaurants': 1473, 'dine': 489, 'weekend': 1959, 'drink': 544, 'empty': 584, 'suggestions': 1729, 'or': 1233, 'rarely': 1417, 'checked': 313, 'ate': 106, 'disappointed': 498, 'curry': 432, 'bamboo': 137, 'shoots': 1589, 'blanket': 203, 'moz': 1151, 'top': 1826, 'done': 521, 'cover': 405, 'subpar': 1717, 'bathrooms': 152, 'clean': 340, 'itself': 949, 'decorated': 453, 'changing': 304, 'considering': 377, 'pace': 1263, 'thumbs': 1806, 'watched': 1947, 'pay': 1292, 'attention': 111, 'ignore': 905, 'fiancé': 663, 'middle': 1118, 'day': 444, 'greeted': 784, 'seated': 1552, 'mandalay': 1077, 'bay': 154, 'waited': 1926, 'forty': 704, 'five': 679, 'vain': 1892, 'crostini': 422, 'stale': 1675, 'highlights': 857, 'nigiri': 1186, 'joint': 960, 'different': 487, 'cut': 436, 'piece': 1321, 'flavored': 683, 'voodoo': 1921, 'since': 1611, 'gluten': 756, 'free': 710, 'several': 1579, 'years': 2022, 'ago': 43, 'unfortunately': 1871, 'must': 1161, 'bakery': 134, 'leftover': 1001, 'relocated': 1463, 'impressed': 914, 'immediately': 912, 'diverse': 514, 'reasonably': 1436, 'priced': 1373, 'avoid': 118, 'cost': 393, 'full': 728, 'hands': 817, 'phoenix': 1317, 'metro': 1114, 'area': 90, 'looking': 1038, 'treated': 1844, 'bacon': 131, 'hella': 845, 'salty': 1522, 'spinach': 1667, 'avocado': 117, 'ingredients': 930, 'sad': 1511, 'literally': 1025, 'zero': 2034, 'used': 1889, 'menus': 1111, 'handed': 813, 'ladies': 983, 'listed': 1024, 'waitresses': 1930, 'lordy': 1040, 'khao': 971, 'soi': 1632, 'missed': 1129, 'terrific': 1773, 'thrilled': 1804, 'accommodations': 29, 'vegetarian': 1901, 'daughter': 443, 'perhaps': 1307, 'caught': 298, 'them': 1783, 'judging': 964, 'reviews': 1480, 'inspired': 933, 'leaves': 999, 'desired': 476, 'modern': 1134, 'hip': 861, 'while': 1975, 'maintaining': 1069, 'coziness': 409, 'weekly': 1960, 'haunt': 829, 'once': 1222, 'sat': 1530, '20': 8, 'asking': 103, 'take': 1749, 'order': 1234, 'flavor': 682, 'overcooked': 1255, 'charcoal': 306, 'decided': 450, 'send': 1563, 'looked': 1037, 'she': 1585, 'verge': 1909, 'having': 832, 'dressed': 540, 'rudely': 1507, 'probably': 1379, 'dirt': 494, 'hits': 865, 'something': 1639, 'healthy': 837, 'lacking': 982, 'quantity': 1407, 'lemon': 1004, 'raspberry': 1418, 'ice': 901, 'cocktail': 346, 'incredible': 921, 'sucked': 1722, 'imagined': 911, 'interesting': 938, 'decor': 452, 'crepe': 419, 'station': 1681, 'hot': 883, 'bread': 230, 'butter': 262, 'home': 868, 'chips': 327, 'bits': 197, 'original': 1238, 'watch': 1946, 'egg': 573, 'gyros': 803, 'missing': 1130, 'wings': 1987, 'feeling': 656, 'satisfied': 1532, 'joey': 958, 'voted': 1922, 'dog': 517, 'valley': 1893, 'readers': 1429, 'magazine': 1064, 'bowl': 224, 'live': 1027, 'fridays': 714, 'blows': 210, 'insulted': 936, 'felt': 661, 'disrespected': 513, 'drive': 548, 'things': 1792, 'exceeding': 613, 'hope': 875, 'dreamed': 538, 'serivce': 1567, 'help': 847, 'brunch': 242, 'inviting': 941, 'lived': 1028, '1979': 7, 'last': 989, 'stepped': 1690, 'foot': 699, 'mixed': 1132, 'mushrooms': 1158, 'yukon': 2031, 'gold': 761, 'puree': 1400, 'white': 1976, 'corn': 389, 'beateous': 160, 'bug': 248, 'showed': 1598, 'given': 750, 'climbing': 341, 'kitchen': 977, 'waiting': 1928, 'her': 850, 'soon': 1643, 'friend': 716, 'tartar': 1755, 'won': 1994, 'though': 1801, 'soggy': 1631, 'jamaican': 951, 'mojitos': 1136, 'small': 1621, 'rich': 1487, 'accordingly': 31, 'shower': 1599, 'rinse': 1492, 'unless': 1875, 'mind': 1125, 'nude': 1199, 'see': 1556, 'lobster': 1031, 'bisque': 192, 'bussell': 259, 'sprouts': 1673, 'risotto': 1494, 'filet': 665, 'needed': 1174, 'pepper': 1302, 'course': 402, 'none': 1192, 'hopefully': 876, 'bodes': 213, 'business': 257, 'someone': 1637, 'cook': 385, 'either': 576, 'cold': 351, 'wrapped': 2014, 'dates': 442, 'unbelievable': 1864, 'bargain': 143, 'folks': 695, 'otto': 1242, 'make': 1070, 'welcome': 1962, 'special': 1658, 'mains': 1068, 'uninspired': 1873, 'stop': 1698, 'whenever': 1971, 'isn': 944, 'then': 1785, 'dealing': 447, 'world': 2004, 'annoying': 67, 'drunk': 551, 'fun': 729, 'chef': 318, 'double': 526, 'cheeseburger': 316, 'single': 1612, 'patty': 1291, 'falling': 640, 'apart': 77, 'picture': 1319, 'uploaded': 1886, 'yeah': 2020, 'couple': 399, 'sporting': 1668, 'events': 605, 'walls': 1933, 'covered': 406, 'tv': 1860, 'possible': 1359, 'descriptions': 474, 'yum': 2032, 'eel': 569, 'yet': 2026, 'mayo': 1089, 'sauces': 1535, 'hardest': 823, 'decision': 451, 'honestly': 872, 'supposed': 1737, 'rolled': 1499, 'eyes': 632, 'stayed': 1683, 'providing': 1393, 'money': 1138, 'flavourful': 687, 'almost': 52, 'building': 249, 'freezing': 711, 'reviewer': 1478, 'couldn': 397, 'close': 342, 'point': 1348, 'flavorful': 684, 'delights': 468, 'ayce': 125, 'lighting': 1014, 'dark': 440, 'set': 1576, 'mood': 1141, 'based': 148, 'sub': 1716, 'par': 1276, 'received': 1439, 'effort': 572, 'show': 1597, 'gratitude': 774, 'owner': 1260, 'privileged': 1378, 'working': 2002, 'creamy': 417, 'parents': 1278, 'most': 1145, 'similar': 1607, 'complaints': 365, 'silently': 1606, 'pizza': 1328, 'peanut': 1295, 'fast': 649, 'godfathers': 759, 'tough': 1835, 'short': 1593, 'sticks': 1692, 'few': 662, 'recall': 1438, 'charged': 308, 'tap': 1753, 'exquisite': 626, 'generous': 742, 'plus': 1346, 'bucks': 245, 'thus': 1807, 'far': 647, 'visited': 1918, 'twice': 1861, 'self': 1562, 'proclaimed': 1381, 'coffee': 350, 'wildly': 1983, 'veggitarian': 1903, 'platter': 1338, 'cant': 281, 'wrong': 2016, 'madison': 1063, 'ironman': 942, 'chefs': 319, 'job': 957, 'from': 720, 'dedicated': 454, 'boba': 212, 'tea': 1763, 'spots': 1670, 'jenni': 954, 'patio': 1288, 'outstanding': 1250, 'goat': 758, 'taco': 1746, 'skimp': 1616, 'mac': 1059, 'bachi': 129, 'stinks': 1694, 'recommend': 1443, 'salads': 1517, 'burned': 254, 'saganaki': 1514, '100': 2, 'hate': 827, 'disagree': 496, 'fellow': 660, 'yelpers': 2025, 'hours': 886, 'pizzas': 1329, 'later': 992, 'why': 1979, 'neighborhood': 1178, 'convenient': 384, 'location': 1033, 'pulled': 1398, 'soooo': 1644, 'incredibly': 922, 'prepared': 1368, 'gave': 738, 'star': 1677, 'rating': 1422, 'please': 1342, 'third': 1796, 'writing': 2015, 'review': 1477, 'stay': 1682, 'stir': 1695, 'fried': 715, 'noodles': 1193, 'chip': 324, 'count': 398, 'box': 225, '12': 4, 'boring': 218, 'greedy': 780, 'corporation': 390, 'dime': 488, 'atrocious': 108, 'summer': 1732, 'charming': 309, 'outdoor': 1246, 'delightful': 467, 'expect': 618, 'toasted': 1816, 'english': 587, 'muffin': 1154, 'untoasted': 1880, 'high': 854, 'house': 887, 'bus': 256, 'boy': 227, 'hand': 812, 'friends': 718, 'basically': 149, 'figured': 664, 'joke': 961, 'making': 1071, 'publicly': 1396, 'loudly': 1044, 'bbq': 155, 'lighter': 1013, 'fare': 648, 'reasonable': 1435, 'pricing': 1376, 'public': 1395, 'ways': 1952, 'two': 1862, 'happy': 821, 'downside': 533, 'without': 1992, 'doubt': 527, 'exceptional': 615, 'months': 1140, 'returned': 1475, 'favorite': 653, 'shawarrrrrrma': 1584, 'black': 198, 'eyed': 631, 'peas': 1298, 'unreal': 1877, 'serve': 1568, 'vinaigrette': 1914, 'seen': 1559, 'especially': 597, '00': 0, 'mom': 1137, 'bites': 196, 'pleasant': 1341, 'honor': 873, 'hut': 899, 'coupons': 401, 'truly': 1852, 'unbelievably': 1865, 'pleased': 1343, 'dirty': 495, 'seat': 1551, 'covers': 407, 'replenished': 1467, 'plain': 1333, 'yucky': 2030, 'standard': 1676, '17': 6, 'omg': 1220, 'delicioso': 463, 'authentic': 115, 'spaghetti': 1657, 'whatsoever': 1968, 'vegetables': 1900, 'feels': 657, 'driving': 549, 'tucson': 1855, 'chipotle': 326, 'classy': 339, 'succulent': 1719, 'baseball': 147, 'brick': 235, 'oven': 1252, 'app': 80, 'multiple': 1156, 'ten': 1768, 'finally': 670, 'terrible': 1772, 'equally': 596, 'shouldn': 1596, 'pancakes': 1272, 'eggs': 575, 'genuinely': 743, 'enthusiastic': 593, 'treat': 1843, 'sadly': 1512, 'gordon': 767, 'ramsey': 1412, 'shall': 1582, 'sharply': 1583, 'evening': 603, 'life': 1011, 'bathroom': 151, 'door': 524, 'offered': 1209, 'tasted': 1758, 'cool': 388, 'turn': 1859, 'else': 579, 'buying': 263, 'handling': 815, 'large': 985, 'rowdy': 1504, 'find': 671, 'despicable': 477, 'soup': 1652, 'lukewarm': 1057, 'craving': 413, 'deserves': 475, 'stomach': 1696, 'ache': 33, 'rest': 1470, 'dropped': 550, 'ball': 136, 'space': 1656, 'tiny': 1811, 'elegantly': 577, 'comfortable': 359, 'customize': 435, 'usual': 1890, 'eggplant': 574, 'green': 782, 'bean': 157, 'fry': 725, 'beans': 158, 'outta': 1251, 'part': 1279, 'inconsiderate': 920, 'says': 1540, 'hi': 853, 'dinners': 492, 'outshining': 1248, 'halibut': 809, 'told': 1819, 'happened': 819, 'car': 284, 'breaks': 233, 'front': 721, 'starving': 1680, '90': 21, 'disgrace': 505, 'def': 457, 'ethic': 600, 'continue': 383, 'andddd': 65, 'date': 441, 'anyone': 72, 'past': 1284, 'stuffed': 1712, 'located': 1032, 'crystals': 429, 'shopping': 1591, 'mall': 1072, 'aria': 93, 'summarize': 1730, 'nay': 1170, 'transcendant': 1841, 'brings': 237, 'joy': 962, 'memory': 1108, 'pneumatic': 1347, 'condiment': 373, 'dispenser': 512, 'ians': 900, 'kids': 974, 'lots': 1043, 'options': 1232, 'kiddos': 973, 'perfect': 1303, 'family': 642, 'perfection': 1304, 'impeccable': 913, 'simply': 1610, 'disappointment': 500, 'bouchon': 222, 'accountant': 32, 'screwed': 1545, 'reminds': 1466, 'pop': 1354, 'shops': 1592, 'san': 1525, 'francisco': 708, 'buldogis': 250, 'gourmet': 770, 'frustrated': 724, 'petty': 1313, 'total': 1830, 'iced': 902, 'hungry': 896, 'assure': 104, 'trying': 1854, 'teeth': 1765, 'sore': 1647, 'completely': 367, 'enjoyed': 590, 'become': 165, 'regular': 1456, 'needs': 1176, 'professional': 1382, 'until': 1879, 'end': 585, 'dinner': 491, 'companions': 362, 'ground': 792, 'smeared': 1624, 'tracked': 1838, 'everywhere': 610, 'pile': 1322, 'bird': 189, 'poop': 1351, 'furthermore': 732, 'operation': 1228, 'website': 1956, 'mistake': 1131, 'expert': 625, 'connisseur': 374, 'topic': 1827, 'jerk': 955, 'strike': 1706, 'wants': 1936, 'rushed': 1509, 'nicest': 1184, 'owners': 1261, 'across': 35, 'biscuits': 191, 'appetizer': 85, '40': 14, 'absolutley': 27, 'awkward': 123, '5lb': 18, 'cow': 408, '4ths': 17, 'gristle': 788, 'fat': 650, 'steiners': 1688, 'bar': 140, 'dollars': 519, 'anyway': 75, 'fs': 726, 'week': 1958, 'mention': 1109, 'combination': 355, 'pears': 1297, 'almonds': 51, 'big': 184, 'winner': 1988, 'spicier': 1665, 'prefer': 1366, 'ribeye': 1485, 'mesquite': 1112, 'anytime': 74, 'gooodd': 766, 'connoisseur': 375, 'difference': 486, 'certainly': 301, 'contained': 381, 'driest': 543, 'mouthful': 1148, 'enjoyable': 589, 'relaxed': 1461, 'venue': 1908, 'couples': 400, 'groups': 794, 'etc': 599, 'nargile': 1168, 'tater': 1762, 'tots': 1832, 'southwest': 1655, 'paid': 1266, 'vanilla': 1895, 'smooth': 1628, 'profiterole': 1383, 'choux': 330, 'pastry': 1287, 'im': 907, 'az': 126, 'new': 1181, 'manager': 1076, 'carly': 288, 'due': 555, 'acknowledged': 34, '35': 13, 'forgetting': 702, 'margaritas': 1080, 'disappoint': 497, 'ventilation': 1905, 'upgrading': 1885, 'letdown': 1007, 'rather': 1421, 'camelback': 277, 'flower': 690, 'shop': 1590, 'cartel': 291, 'trimmed': 1847, 'group': 793, '70': 19, 'claimed': 335, 'handled': 814, 'beautifully': 162, 'bill': 187, 'bring': 236, 'jewel': 956, 'las': 988, 'exactly': 611, 'hoping': 878, 'nearly': 1171, 'living': 1029, 'limited': 1021, 'boiled': 214, 'crab': 410, 'legs': 1003, 'toro': 1829, 'tartare': 1756, 'cavier': 300, 'extraordinary': 629, 'thinly': 1795, 'sliced': 1618, 'wagyu': 1924, 'truffle': 1851, 'dont': 522, 'long': 1034, 'attached': 109, 'gas': 737, 'sign': 1604, 'awesome': 121, 'decide': 449, 'worse': 2006, 'humiliated': 893, 'worker': 2000, 'bunch': 251, 'name': 1166, 'callings': 275, 'conclusion': 372, 'filling': 668, 'meals': 1092, 'daily': 438, 'specials': 1659, 'tragedy': 1840, 'struck': 1709, 'pancake': 1271, 'crawfish': 414, 'monster': 1139, 'funny': 730, 'multi': 1155, 'grain': 772, 'pumpkin': 1399, 'pecan': 1299, 'fluffy': 691, 'airline': 45, 'noca': 1190, 'gyro': 802, 'lettuce': 1009, 'thoroughly': 1799, 'homemade': 869, 'pastas': 1286, 'thin': 1790, 'cheesecurds': 317, 'typical': 1863, 'glance': 753, 'lovely': 1047, 'finger': 673, 'item': 947, 'such': 1720, 'beauty': 163, 'haven': 831, 'gone': 763, 'greasy': 777, 'unhealthy': 1872, 'might': 1119, 'those': 1800, 'similarly': 1608, 'delivery': 471, 'man': 1073, 'apology': 79, '45': 16, 'expensive': 621, 'need': 1173, 'pack': 1264, 'tiramisu': 1813, 'cannoli': 279, 'sun': 1733, 'whole': 1978, 'meats': 1098, 'choose': 329, 'experienced': 623, 'frenchman': 712, 'desserts': 480, 'martini': 1084, 'opinion': 1229, 'entrees': 595, 'gc': 739, 'sample': 1524, 'thirty': 1797, 'vacant': 1891, 'yellowtail': 2024, 'carpaccio': 289, 'strangers': 1702, 'actually': 37, 'hello': 846, 'strange': 1701, 'boyfriend': 228, 'recent': 1441, 'donut': 523, 'saving': 1537, 'room': 1501, 'maybe': 1088, 'disgraceful': 506, 'however': 889, 'particular': 1280, 'suffers': 1725, 'tapas': 1754, 'vinegrette': 1915, 'baby': 128, 'greens': 783, 'hearts': 840, 'palm': 1269, 'disgusting': 509, 'believe': 174, 'hankering': 818, 'forth': 703, 'helped': 848, 'consider': 376, 'theft': 1781, 'eew': 570, 'complete': 366, 'overhaul': 1256, 'recently': 1442, 'witnessed': 1993, 'guests': 799, 'regularly': 1457, 'super': 1736, 'swung': 1743, 'deeply': 456, 'efficient': 571, 'fan': 644, 'sucker': 1723, 'dry': 552, 'rated': 1420, '15': 5, 'setting': 1577, 'cheap': 310, 'olives': 1218, 'perpared': 1308, 'presentation': 1370, 'giant': 747, 'slices': 1619, 'toast': 1815, 'lightly': 1015, 'dusted': 558, 'powdered': 1364, 'sugar': 1726, 'play': 1339, 'fo': 693, 'accomodate': 30, 'vegan': 1898, 'veggie': 1902, 'crumby': 426, 'pale': 1268, 'color': 354, 'instead': 935, 'croutons': 423, 'trips': 1850, 'crema': 418, 'café': 269, 'expanded': 617, 'miss': 1128, 'wish': 1990, 'philadelphia': 1315, 'sitting': 1614, 'fairly': 638, 'crisp': 420, 'satisfying': 1533, 'wanted': 1935, 'north': 1194, 'scottsdale': 1543, 'quit': 1410, 'soooooo': 1646, 'freaking': 709, 'papers': 1275, 'reheated': 1458, 'ok': 1215, 'wedges': 1957, 'sorry': 1649, 'absolute': 25, 'tongue': 1822, 'cheek': 314, 'bloody': 207, 'despite': 478, 'rate': 1419, 'businesses': 258, 'its': 948, 'grilled': 786, 'yellow': 2023, 'saffron': 1513, 'seasoning': 1550, 'thru': 1805, 'means': 1094, 'half': 808, 'somehow': 1636, 'luck': 1055, 'non': 1191, 'focused': 694, 'grandmother': 773, 'list': 1023, 'ignored': 906, 'hostess': 882, 'myself': 1163, 'boys': 229, 'four': 707, 'guy': 800, 'blue': 211, 'shirt': 1586, 'vibe': 1913, 'letting': 1008, 'same': 1523, 'him': 860, 'drastically': 536, 'caesar': 267, 'promptly': 1387, 'madhouse': 1062, 'proven': 1390, 'dead': 445, 'greatest': 779, 'moods': 1142, 'macarons': 1060, 'insanely': 931, 'informative': 929, 'weren': 1966, 'somewhat': 1640, 'edible': 566, 'promise': 1385, 'fails': 636, 'deliver': 470, 'average': 116, 'plater': 1337, 'relax': 1460, 'sit': 1613, 'together': 1818, 'poorly': 1353, 'constructed': 379, 'seating': 1553, 'italian': 946, 'screams': 1544, 'legit': 1002, 'book': 216, 'somethat': 1638, 'duo': 556, 'violinists': 1916, 'songs': 1642, 'requested': 1468, 'personally': 1311, 'baklava': 135, 'falafels': 639, 'baba': 127, 'ganoush': 734, 'staying': 1684, 'mgm': 1116, 'courteous': 404, 'eclectic': 565, 'onion': 1225, 'rings': 1491, 'pictures': 1320, 'work': 1999, 'nobu': 1189, 'google': 765, 'imagine': 910, 'smashburger': 1623, 'lover': 1048, 'gem': 740, 'plantains': 1334, 'giving': 751, 'spends': 1662, 'talking': 1752, 'themselves': 1784, 'panna': 1273, 'cotta': 395, 'fail': 635, 'flavors': 686, 'slaw': 1617, 'drenched': 539, 'piano': 1318, 'soundtrack': 1651, 'rge': 1482, 'fillet': 667, 'relleno': 1462, 'plate': 1336, 'sergeant': 1565, 'auju': 114, 'hawaiian': 833, 'breeze': 234, 'mango': 1078, 'magic': 1065, 'pineapple': 1324, 'smoothies': 1629, 'mortified': 1144, 'needless': 1175, 'anyways': 76, 'dripping': 547, 'mostly': 1146, '2007': 9, 'serving': 1575, 'hospitality': 880, 'industry': 926, 'paradise': 1277, 'refrained': 1451, 'recommending': 1446, 'cibo': 333, 'longer': 1035, 'orders': 1237, 'mean': 1093, 'famous': 643, 'mouths': 1149, 'bellies': 176, 'reading': 1430, 'reminded': 1465, 'pros': 1389, 'simple': 1609, 'dough': 529, 'tonight': 1823, 'elk': 578, 'hooked': 874, 'classics': 338, 'sorely': 1648, 'quaint': 1404, 'deliciously': 465, 'compliments': 368, 'thanks': 1777, 'dylan': 559, 'tummy': 1856, 'gratuity': 775, 'larger': 987, 'fly': 692, 'apple': 87, 'juice': 965, 'han': 811, 'nan': 1167, 'barely': 142, 'ryan': 1510, 'edinburgh': 567, 'revisiting': 1481, 'chinese': 323, 'naan': 1164, 'pine': 1323, 'nut': 1201, 'touched': 1834, 'airport': 46, 'speedy': 1660, 'calligraphy': 274, 'paper': 1274, 'anything': 73, 'complain': 364, 'stood': 1697, 'begin': 171, 'awkwardly': 124, 'opened': 1227, 'guest': 798, 'extensive': 627, 'provides': 1392, 'wide': 1980, 'array': 95, 'inflate': 928, 'smaller': 1622, 'grow': 795, 'rapidly': 1415, 'lil': 1020, 'fuzzy': 733, 'fabulous': 633, 'wontons': 1996, 'thick': 1789, 'level': 1010, 'spice': 1663, 'whelm': 1969, 'main': 1066, 'crowd': 424, 'older': 1217, 'mid': 1117, '30s': 12, 'arepas': 92, 'jalapeno': 950, 'thats': 1779, 'shoe': 1588, 'leather': 997, 'definately': 458, 'block': 204, 'low': 1052, 'key': 970, 'fancy': 645, 'affordable': 39, 'sour': 1654, 'soups': 1653, 'sunday': 1734, 'traditional': 1839, 'hunan': 895, 'style': 1714, 'bother': 220, 'flair': 680, 'bartenders': 146, 'nutshell': 1202, 'restaraunt': 1471, 'smells': 1626, 'market': 1082, 'sewer': 1580, 'girlfriend': 748, 'veal': 1897, 'satifying': 1531, 'join': 959, 'club': 344, 'offers': 1210, 'via': 1912, 'email': 581, 'likes': 1018, 'case': 292, 'colder': 352, 'flavorless': 685, 'describing': 473, 'tepid': 1771, 'chains': 303, 'easily': 561, 'nachos': 1165, 'words': 1998, 'does': 516, 'crazy': 415, 'crowds': 425, 'juries': 966, 'lawyers': 995, 'court': 403, 'arrives': 97, 'paying': 1293, '85': 20, 'looks': 1039, 'kid': 972, 'wienerschnitzel': 1981, 'idea': 903, 'classic': 337, 'maine': 1067, 'roll': 1498, 'brother': 239, 'law': 994, 'works': 2003, 'hereas': 852, 'tribute': 1845, 'event': 604, 'held': 843, 'salsa': 1520, 'pissd': 1326, 'surprise': 1739, 'golden': 762, 'hopes': 877, 'fell': 658, 'bruschetta': 243, 'devine': 482, 'employee': 582, 'lastly': 990, 'mozzarella': 1152, 'negligent': 1177, 'unwelcome': 1881, 'suggest': 1728, 'consistent': 378, 'packed': 1265, 'seasonal': 1548, 'fruit': 723, 'peach': 1294, 'officially': 1211, 'blown': 209, 'put': 1402, 'plastic': 1335, 'containers': 382, 'opposed': 1231, 'cramming': 411, 'takeout': 1750, 'boxes': 226, 'crêpe': 430, 'delicate': 462, 'awful': 122, 'fair': 637, 'kabuki': 968, 'services': 1574, 'maria': 1081, 'surprised': 1740, 'article': 99, 'read': 1428, 'spices': 1664, 'fucking': 727, 'caballero': 266, 'head': 835, 'oysters': 1262, 'round': 1503, 'disbelief': 503, 'qualified': 1405, 'version': 1910, 'foods': 698, 'tolerance': 1820, 'polite': 1350, 'wash': 1941, 'otherwise': 1241, 'biscuit': 190, 'heat': 841, 'hated': 828, 'coconut': 348, 'fella': 659, 'huevos': 890, 'rancheros': 1414, 'appealing': 83, 'wines': 1986, 'pricey': 1375, 'temp': 1767, 'prepare': 1367, 'bare': 141, 'gloves': 755, 'deep': 455, 'oil': 1214, 'pleasure': 1344, 'plethora': 1345, 'sandwiches': 1527, 'gets': 745, 'seal': 1547, 'approval': 88, 'light': 1012, 'college': 353, 'cooking': 387, 'class': 336, 'started': 1679, 'editing': 568, 'besides': 179, 'costco': 394, 'highlighted': 856, 'unique': 1874, 'weird': 1961, 'hardly': 824, 'grocery': 789, 'store': 1700, 'japanese': 952, 'dude': 554, 'aren': 91, 'doughy': 530, 'inch': 917, 'wire': 1989, 'ourselves': 1244, 'albondigas': 48, 'tomato': 1821, 'meatballs': 1096, 'three': 1803, 'occasions': 1206, 'medium': 1101, 'bloodiest': 206, 'refused': 1454, 'anymore': 71, 'killer': 975, 'chai': 302, 'latte': 993, 'allergy': 50, 'warnings': 1939, 'clue': 345, 'contain': 380, 'peanuts': 1296, 'mediterranean': 1100, 'rotating': 1502, 'beers': 169, 'highlight': 855, 'concern': 371, 'mellow': 1105, 'mushroom': 1157, 'strawberry': 1703, 'unprofessional': 1876, 'loyal': 1054, 'patron': 1289, 'spend': 1661, 'occasional': 1205, 'pats': 1290, 'bellagio': 175, 'anticipated': 69, 'weak': 1955, 'correct': 391, 'bought': 223, 'sals': 1519, 'returning': 1476, 'fav': 651, 'unexperienced': 1870, 'employees': 583, 'chickens': 322, 'heads': 836, 'call': 273, 'steakhouse': 1686, 'properly': 1388, 'understand': 1868, 'concept': 370, 'guacamole': 796, 'puréed': 1401, 'postinos': 1360, 'poisoning': 1349, 'batch': 150, 'thinking': 1794, 'yay': 2019, 'hilarious': 859, 'christmas': 332, 'eve': 601, 'remember': 1464, 'biggest': 186, 'entire': 594, 'caring': 287, 'teamwork': 1764, 'degree': 460, 'ri': 1483, 'calamari': 272, 'fondue': 696, 'lost': 1041, 'forever': 701, 'ones': 1224, 'scene': 1542, 'denny': 472, 'downright': 532, 'waaaaaayyyyyyyyyy': 1923, 'saying': 1539, 'lacked': 981, 'sangria': 1528, 'glass': 754, 'ridiculous': 1489, 'brisket': 238, 'neat': 1172, 'trippy': 1849, 'hurry': 897, 'reservation': 1469, 'stretch': 1705, 'imagination': 908, 'cashew': 294, 'undercooked': 1867, 'chipolte': 325, 'ranch': 1413, 'dipping': 493, 'sause': 1536, 'seemed': 1557, 'watered': 1949, 'workers': 2001, 'douchey': 528, 'indoor': 925, 'garden': 735, 'con': 369, 'spotty': 1671, 'neither': 1179, 'ensued': 592, 'apologize': 78, 'reason': 1434, 'fill': 666, 'binge': 188, 'drinking': 545, 'carbs': 285, 'insults': 937, 'profound': 1384, 'deuchebaggery': 481, 'smoke': 1627, 'solidify': 1634, 'combo': 356, 'ala': 47, 'cart': 290, 'blame': 200, 'placed': 1331, 'rave': 1424, 'del': 461, 'avoided': 119, 'hamburger': 810, 'hell': 844, 'gotten': 769, 'ya': 2017, 'doing': 518, 'shots': 1594, 'fireball': 675, 'disapppointment': 501, 'correction': 392, 'heimer': 842, 'putting': 1403, 'cause': 299, 'owned': 1259, 'vomited': 1920, 'circumstances': 334, 'tops': 1828, 'brownish': 241, 'obviously': 1204, 'below': 178, 'movies': 1150, 'ha': 804, 'flop': 689, 'problem': 1380, 'charge': 307, '11': 3, '99': 22, 'bigger': 185, 'unwrapped': 1882, 'mile': 1120, 'brushfire': 244, 'impressive': 915, 'hasn': 826, 'closed': 343, 'mirage': 1127, 'refried': 1453, 'dried': 542, 'crusty': 428, 'caterpillar': 297, 'appetite': 84, 'instantly': 934, 'ninja': 1187, 'hadn': 806, 'wasted': 1944, 'poured': 1363, 'wound': 2011, 'drawing': 537}\n"
          ]
        }
      ]
    },
    {
      "cell_type": "code",
      "source": [
        "X = cv.transform(X)\n",
        "print(X)"
      ],
      "metadata": {
        "id": "MHJSBIMJI72t",
        "colab": {
          "base_uri": "https://localhost:8080/"
        },
        "outputId": "deb530ad-f7a2-4bb4-808b-2533d155824c"
      },
      "execution_count": null,
      "outputs": [
        {
          "output_type": "stream",
          "name": "stdout",
          "text": [
            "  (0, 1046)\t1\n",
            "  (0, 1330)\t1\n",
            "  (0, 1798)\t1\n",
            "  (0, 2012)\t1\n",
            "  (1, 427)\t1\n",
            "  (1, 764)\t1\n",
            "  (1, 943)\t1\n",
            "  (1, 1195)\t1\n",
            "  (2, 64)\t1\n",
            "  (2, 967)\t1\n",
            "  (2, 1169)\t1\n",
            "  (2, 1195)\t1\n",
            "  (2, 1761)\t1\n",
            "  (2, 1774)\t1\n",
            "  (2, 1780)\t1\n",
            "  (2, 1940)\t1\n",
            "  (3, 64)\t1\n",
            "  (3, 139)\t1\n",
            "  (3, 264)\t1\n",
            "  (3, 557)\t1\n",
            "  (3, 867)\t1\n",
            "  (3, 945)\t1\n",
            "  (3, 991)\t1\n",
            "  (3, 1046)\t1\n",
            "  (3, 1087)\t1\n",
            "  :\t:\n",
            "  (999, 100)\t1\n",
            "  (999, 236)\t1\n",
            "  (999, 264)\t1\n",
            "  (999, 312)\t1\n",
            "  (999, 537)\t1\n",
            "  (999, 591)\t1\n",
            "  (999, 806)\t1\n",
            "  (999, 904)\t1\n",
            "  (999, 916)\t1\n",
            "  (999, 945)\t1\n",
            "  (999, 1011)\t1\n",
            "  (999, 1162)\t1\n",
            "  (999, 1207)\t1\n",
            "  (999, 1245)\t1\n",
            "  (999, 1363)\t1\n",
            "  (999, 1521)\t1\n",
            "  (999, 1780)\t3\n",
            "  (999, 1785)\t1\n",
            "  (999, 1786)\t1\n",
            "  (999, 1788)\t1\n",
            "  (999, 1809)\t1\n",
            "  (999, 1814)\t1\n",
            "  (999, 1825)\t1\n",
            "  (999, 1944)\t1\n",
            "  (999, 2011)\t1\n"
          ]
        }
      ]
    },
    {
      "cell_type": "code",
      "source": [
        "# Spliting trian/test \n",
        "X_train, X_test, Y_train, Y_test = train_test_split(X, Y, test_size=0.2, random_state=284)"
      ],
      "metadata": {
        "id": "InSAgLnYJKmH"
      },
      "execution_count": null,
      "outputs": []
    },
    {
      "cell_type": "code",
      "source": [
        "# No hyperparameter tuning\n",
        "from sklearn.naive_bayes import MultinomialNB\n",
        "nb= MultinomialNB()\n",
        "nb.fit(X_train, Y_train)\n",
        "predictions = nb.predict(X_test)"
      ],
      "metadata": {
        "id": "zG2Q5KFES8i7"
      },
      "execution_count": null,
      "outputs": []
    },
    {
      "cell_type": "code",
      "source": [
        "print(confusion_matrix(Y_test, predictions))\n",
        "print('/n')\n",
        "print(classification_report(Y_test, predictions))"
      ],
      "metadata": {
        "id": "EeC8TFObTB5I",
        "colab": {
          "base_uri": "https://localhost:8080/"
        },
        "outputId": "5408e4ba-0e73-4f62-aac2-1ab8b41ef0f0"
      },
      "execution_count": null,
      "outputs": [
        {
          "output_type": "stream",
          "name": "stdout",
          "text": [
            "[[80 33]\n",
            " [17 70]]\n",
            "/n\n",
            "              precision    recall  f1-score   support\n",
            "\n",
            "           0       0.82      0.71      0.76       113\n",
            "           1       0.68      0.80      0.74        87\n",
            "\n",
            "    accuracy                           0.75       200\n",
            "   macro avg       0.75      0.76      0.75       200\n",
            "weighted avg       0.76      0.75      0.75       200\n",
            "\n"
          ]
        }
      ]
    },
    {
      "cell_type": "code",
      "source": [
        "# Outputting incorrect observations\n",
        "misclassified_1 = np.where(Y_test != predictions)\n",
        "df_mis = df_yelp.iloc[misclassified_1]\n",
        "df_mis.head(10)"
      ],
      "metadata": {
        "colab": {
          "base_uri": "https://localhost:8080/",
          "height": 363
        },
        "id": "tGy4lK6WNHwu",
        "outputId": "609a2195-e142-4759-fcb9-81455bab1478"
      },
      "execution_count": null,
      "outputs": [
        {
          "output_type": "execute_result",
          "data": {
            "text/plain": [
              "                                               review  is_positive\n",
              "2           not tasty and the texture was just nasty.            0\n",
              "7   the potatoes were like rubber and you could te...            0\n",
              "8                           the fries were great too.            1\n",
              "13  i tried the cape cod ravoli, chicken,with cran...            1\n",
              "18  this place is not worth your time, let alone v...            0\n",
              "20                                the burrittos blah!            0\n",
              "27  this hole in the wall has great mexican street...            1\n",
              "35  the only redeeming quality of the restaurant w...            1\n",
              "36                    ample portions and good prices.            1\n",
              "40                       the shrimp tender and moist.            1"
            ],
            "text/html": [
              "\n",
              "  <div id=\"df-c34e7a96-9083-4781-bf9d-68ec6bbddc14\">\n",
              "    <div class=\"colab-df-container\">\n",
              "      <div>\n",
              "<style scoped>\n",
              "    .dataframe tbody tr th:only-of-type {\n",
              "        vertical-align: middle;\n",
              "    }\n",
              "\n",
              "    .dataframe tbody tr th {\n",
              "        vertical-align: top;\n",
              "    }\n",
              "\n",
              "    .dataframe thead th {\n",
              "        text-align: right;\n",
              "    }\n",
              "</style>\n",
              "<table border=\"1\" class=\"dataframe\">\n",
              "  <thead>\n",
              "    <tr style=\"text-align: right;\">\n",
              "      <th></th>\n",
              "      <th>review</th>\n",
              "      <th>is_positive</th>\n",
              "    </tr>\n",
              "  </thead>\n",
              "  <tbody>\n",
              "    <tr>\n",
              "      <th>2</th>\n",
              "      <td>not tasty and the texture was just nasty.</td>\n",
              "      <td>0</td>\n",
              "    </tr>\n",
              "    <tr>\n",
              "      <th>7</th>\n",
              "      <td>the potatoes were like rubber and you could te...</td>\n",
              "      <td>0</td>\n",
              "    </tr>\n",
              "    <tr>\n",
              "      <th>8</th>\n",
              "      <td>the fries were great too.</td>\n",
              "      <td>1</td>\n",
              "    </tr>\n",
              "    <tr>\n",
              "      <th>13</th>\n",
              "      <td>i tried the cape cod ravoli, chicken,with cran...</td>\n",
              "      <td>1</td>\n",
              "    </tr>\n",
              "    <tr>\n",
              "      <th>18</th>\n",
              "      <td>this place is not worth your time, let alone v...</td>\n",
              "      <td>0</td>\n",
              "    </tr>\n",
              "    <tr>\n",
              "      <th>20</th>\n",
              "      <td>the burrittos blah!</td>\n",
              "      <td>0</td>\n",
              "    </tr>\n",
              "    <tr>\n",
              "      <th>27</th>\n",
              "      <td>this hole in the wall has great mexican street...</td>\n",
              "      <td>1</td>\n",
              "    </tr>\n",
              "    <tr>\n",
              "      <th>35</th>\n",
              "      <td>the only redeeming quality of the restaurant w...</td>\n",
              "      <td>1</td>\n",
              "    </tr>\n",
              "    <tr>\n",
              "      <th>36</th>\n",
              "      <td>ample portions and good prices.</td>\n",
              "      <td>1</td>\n",
              "    </tr>\n",
              "    <tr>\n",
              "      <th>40</th>\n",
              "      <td>the shrimp tender and moist.</td>\n",
              "      <td>1</td>\n",
              "    </tr>\n",
              "  </tbody>\n",
              "</table>\n",
              "</div>\n",
              "      <button class=\"colab-df-convert\" onclick=\"convertToInteractive('df-c34e7a96-9083-4781-bf9d-68ec6bbddc14')\"\n",
              "              title=\"Convert this dataframe to an interactive table.\"\n",
              "              style=\"display:none;\">\n",
              "        \n",
              "  <svg xmlns=\"http://www.w3.org/2000/svg\" height=\"24px\"viewBox=\"0 0 24 24\"\n",
              "       width=\"24px\">\n",
              "    <path d=\"M0 0h24v24H0V0z\" fill=\"none\"/>\n",
              "    <path d=\"M18.56 5.44l.94 2.06.94-2.06 2.06-.94-2.06-.94-.94-2.06-.94 2.06-2.06.94zm-11 1L8.5 8.5l.94-2.06 2.06-.94-2.06-.94L8.5 2.5l-.94 2.06-2.06.94zm10 10l.94 2.06.94-2.06 2.06-.94-2.06-.94-.94-2.06-.94 2.06-2.06.94z\"/><path d=\"M17.41 7.96l-1.37-1.37c-.4-.4-.92-.59-1.43-.59-.52 0-1.04.2-1.43.59L10.3 9.45l-7.72 7.72c-.78.78-.78 2.05 0 2.83L4 21.41c.39.39.9.59 1.41.59.51 0 1.02-.2 1.41-.59l7.78-7.78 2.81-2.81c.8-.78.8-2.07 0-2.86zM5.41 20L4 18.59l7.72-7.72 1.47 1.35L5.41 20z\"/>\n",
              "  </svg>\n",
              "      </button>\n",
              "      \n",
              "  <style>\n",
              "    .colab-df-container {\n",
              "      display:flex;\n",
              "      flex-wrap:wrap;\n",
              "      gap: 12px;\n",
              "    }\n",
              "\n",
              "    .colab-df-convert {\n",
              "      background-color: #E8F0FE;\n",
              "      border: none;\n",
              "      border-radius: 50%;\n",
              "      cursor: pointer;\n",
              "      display: none;\n",
              "      fill: #1967D2;\n",
              "      height: 32px;\n",
              "      padding: 0 0 0 0;\n",
              "      width: 32px;\n",
              "    }\n",
              "\n",
              "    .colab-df-convert:hover {\n",
              "      background-color: #E2EBFA;\n",
              "      box-shadow: 0px 1px 2px rgba(60, 64, 67, 0.3), 0px 1px 3px 1px rgba(60, 64, 67, 0.15);\n",
              "      fill: #174EA6;\n",
              "    }\n",
              "\n",
              "    [theme=dark] .colab-df-convert {\n",
              "      background-color: #3B4455;\n",
              "      fill: #D2E3FC;\n",
              "    }\n",
              "\n",
              "    [theme=dark] .colab-df-convert:hover {\n",
              "      background-color: #434B5C;\n",
              "      box-shadow: 0px 1px 3px 1px rgba(0, 0, 0, 0.15);\n",
              "      filter: drop-shadow(0px 1px 2px rgba(0, 0, 0, 0.3));\n",
              "      fill: #FFFFFF;\n",
              "    }\n",
              "  </style>\n",
              "\n",
              "      <script>\n",
              "        const buttonEl =\n",
              "          document.querySelector('#df-c34e7a96-9083-4781-bf9d-68ec6bbddc14 button.colab-df-convert');\n",
              "        buttonEl.style.display =\n",
              "          google.colab.kernel.accessAllowed ? 'block' : 'none';\n",
              "\n",
              "        async function convertToInteractive(key) {\n",
              "          const element = document.querySelector('#df-c34e7a96-9083-4781-bf9d-68ec6bbddc14');\n",
              "          const dataTable =\n",
              "            await google.colab.kernel.invokeFunction('convertToInteractive',\n",
              "                                                     [key], {});\n",
              "          if (!dataTable) return;\n",
              "\n",
              "          const docLinkHtml = 'Like what you see? Visit the ' +\n",
              "            '<a target=\"_blank\" href=https://colab.research.google.com/notebooks/data_table.ipynb>data table notebook</a>'\n",
              "            + ' to learn more about interactive tables.';\n",
              "          element.innerHTML = '';\n",
              "          dataTable['output_type'] = 'display_data';\n",
              "          await google.colab.output.renderOutput(dataTable, element);\n",
              "          const docLink = document.createElement('div');\n",
              "          docLink.innerHTML = docLinkHtml;\n",
              "          element.appendChild(docLink);\n",
              "        }\n",
              "      </script>\n",
              "    </div>\n",
              "  </div>\n",
              "  "
            ]
          },
          "metadata": {},
          "execution_count": 18
        }
      ]
    },
    {
      "cell_type": "code",
      "source": [
        "# Using multinomial naive bayes with hyperparameter tuning\n",
        "from sklearn.naive_bayes import MultinomialNB\n",
        "nb= MultinomialNB(alpha=.8)\n",
        "nb.fit(X_train, Y_train)"
      ],
      "metadata": {
        "id": "CcpSjvlpJLCY",
        "colab": {
          "base_uri": "https://localhost:8080/"
        },
        "outputId": "f41ffa1d-bd04-42b8-f251-e6e17fc1df93"
      },
      "execution_count": null,
      "outputs": [
        {
          "output_type": "execute_result",
          "data": {
            "text/plain": [
              "MultinomialNB(alpha=0.8)"
            ]
          },
          "metadata": {},
          "execution_count": 19
        }
      ]
    },
    {
      "cell_type": "code",
      "source": [
        "predictions = nb.predict(X_test)"
      ],
      "metadata": {
        "id": "s2MpUhhhJdQw"
      },
      "execution_count": null,
      "outputs": []
    },
    {
      "cell_type": "code",
      "source": [
        "predictions"
      ],
      "metadata": {
        "id": "TT7spXZNK2R6",
        "colab": {
          "base_uri": "https://localhost:8080/"
        },
        "outputId": "09a229fd-b770-4d47-de4e-cd2ea8838ee2"
      },
      "execution_count": null,
      "outputs": [
        {
          "output_type": "execute_result",
          "data": {
            "text/plain": [
              "array([0, 1, 0, 0, 1, 1, 0, 0, 1, 0, 1, 1, 1, 0, 1, 0, 1, 0, 0, 1, 0, 0,\n",
              "       1, 0, 1, 0, 0, 0, 1, 0, 0, 1, 1, 1, 1, 1, 1, 0, 1, 1, 1, 0, 0, 0,\n",
              "       0, 1, 1, 0, 0, 0, 0, 1, 0, 1, 1, 1, 0, 1, 0, 0, 1, 0, 0, 1, 0, 0,\n",
              "       1, 0, 0, 1, 0, 1, 1, 0, 1, 0, 1, 0, 1, 1, 0, 0, 1, 0, 0, 1, 1, 0,\n",
              "       0, 0, 1, 0, 1, 1, 1, 0, 0, 1, 1, 1, 0, 1, 1, 1, 1, 1, 0, 1, 1, 1,\n",
              "       1, 0, 1, 0, 1, 0, 0, 0, 0, 1, 1, 1, 0, 1, 1, 1, 0, 0, 1, 0, 1, 0,\n",
              "       0, 1, 1, 0, 0, 1, 0, 0, 0, 0, 0, 1, 1, 0, 0, 1, 0, 1, 0, 1, 1, 0,\n",
              "       1, 1, 0, 0, 0, 0, 1, 1, 0, 1, 1, 1, 1, 0, 1, 1, 1, 0, 0, 1, 1, 0,\n",
              "       0, 0, 1, 0, 0, 1, 0, 1, 0, 1, 1, 0, 0, 0, 0, 1, 0, 1, 0, 1, 1, 1,\n",
              "       1, 1])"
            ]
          },
          "metadata": {},
          "execution_count": 21
        }
      ]
    },
    {
      "cell_type": "code",
      "source": [
        "print(confusion_matrix(Y_test, predictions))\n",
        "print('/n')\n",
        "print(classification_report(Y_test, predictions))"
      ],
      "metadata": {
        "id": "uhEeG8qcJgVV",
        "colab": {
          "base_uri": "https://localhost:8080/"
        },
        "outputId": "5dda7b1e-9bb8-43f9-83c6-bc4d4983fc43"
      },
      "execution_count": null,
      "outputs": [
        {
          "output_type": "stream",
          "name": "stdout",
          "text": [
            "[[81 32]\n",
            " [17 70]]\n",
            "/n\n",
            "              precision    recall  f1-score   support\n",
            "\n",
            "           0       0.83      0.72      0.77       113\n",
            "           1       0.69      0.80      0.74        87\n",
            "\n",
            "    accuracy                           0.76       200\n",
            "   macro avg       0.76      0.76      0.75       200\n",
            "weighted avg       0.77      0.76      0.76       200\n",
            "\n"
          ]
        }
      ]
    },
    {
      "cell_type": "code",
      "source": [
        "# Outputting incorrect observations\n",
        "misclassified_2 = np.where(Y_test != predictions)\n",
        "df_mis = df_yelp.iloc[misclassified_2]\n",
        "df_mis.head(10)"
      ],
      "metadata": {
        "colab": {
          "base_uri": "https://localhost:8080/",
          "height": 363
        },
        "id": "2viPyep3Nlq5",
        "outputId": "6e1ec2ff-2baf-4638-9f57-33abf887df6c"
      },
      "execution_count": null,
      "outputs": [
        {
          "output_type": "execute_result",
          "data": {
            "text/plain": [
              "                                               review  is_positive\n",
              "8                           the fries were great too.            1\n",
              "13  i tried the cape cod ravoli, chicken,with cran...            1\n",
              "18  this place is not worth your time, let alone v...            0\n",
              "20                                the burrittos blah!            0\n",
              "27  this hole in the wall has great mexican street...            1\n",
              "35  the only redeeming quality of the restaurant w...            1\n",
              "36                    ample portions and good prices.            1\n",
              "40                       the shrimp tender and moist.            1\n",
              "46          it's too bad the food is so damn generic.            0\n",
              "47        the burger is good beef, cooked just right.            1"
            ],
            "text/html": [
              "\n",
              "  <div id=\"df-26e2051d-c1ce-4832-89ae-2fe572f55791\">\n",
              "    <div class=\"colab-df-container\">\n",
              "      <div>\n",
              "<style scoped>\n",
              "    .dataframe tbody tr th:only-of-type {\n",
              "        vertical-align: middle;\n",
              "    }\n",
              "\n",
              "    .dataframe tbody tr th {\n",
              "        vertical-align: top;\n",
              "    }\n",
              "\n",
              "    .dataframe thead th {\n",
              "        text-align: right;\n",
              "    }\n",
              "</style>\n",
              "<table border=\"1\" class=\"dataframe\">\n",
              "  <thead>\n",
              "    <tr style=\"text-align: right;\">\n",
              "      <th></th>\n",
              "      <th>review</th>\n",
              "      <th>is_positive</th>\n",
              "    </tr>\n",
              "  </thead>\n",
              "  <tbody>\n",
              "    <tr>\n",
              "      <th>8</th>\n",
              "      <td>the fries were great too.</td>\n",
              "      <td>1</td>\n",
              "    </tr>\n",
              "    <tr>\n",
              "      <th>13</th>\n",
              "      <td>i tried the cape cod ravoli, chicken,with cran...</td>\n",
              "      <td>1</td>\n",
              "    </tr>\n",
              "    <tr>\n",
              "      <th>18</th>\n",
              "      <td>this place is not worth your time, let alone v...</td>\n",
              "      <td>0</td>\n",
              "    </tr>\n",
              "    <tr>\n",
              "      <th>20</th>\n",
              "      <td>the burrittos blah!</td>\n",
              "      <td>0</td>\n",
              "    </tr>\n",
              "    <tr>\n",
              "      <th>27</th>\n",
              "      <td>this hole in the wall has great mexican street...</td>\n",
              "      <td>1</td>\n",
              "    </tr>\n",
              "    <tr>\n",
              "      <th>35</th>\n",
              "      <td>the only redeeming quality of the restaurant w...</td>\n",
              "      <td>1</td>\n",
              "    </tr>\n",
              "    <tr>\n",
              "      <th>36</th>\n",
              "      <td>ample portions and good prices.</td>\n",
              "      <td>1</td>\n",
              "    </tr>\n",
              "    <tr>\n",
              "      <th>40</th>\n",
              "      <td>the shrimp tender and moist.</td>\n",
              "      <td>1</td>\n",
              "    </tr>\n",
              "    <tr>\n",
              "      <th>46</th>\n",
              "      <td>it's too bad the food is so damn generic.</td>\n",
              "      <td>0</td>\n",
              "    </tr>\n",
              "    <tr>\n",
              "      <th>47</th>\n",
              "      <td>the burger is good beef, cooked just right.</td>\n",
              "      <td>1</td>\n",
              "    </tr>\n",
              "  </tbody>\n",
              "</table>\n",
              "</div>\n",
              "      <button class=\"colab-df-convert\" onclick=\"convertToInteractive('df-26e2051d-c1ce-4832-89ae-2fe572f55791')\"\n",
              "              title=\"Convert this dataframe to an interactive table.\"\n",
              "              style=\"display:none;\">\n",
              "        \n",
              "  <svg xmlns=\"http://www.w3.org/2000/svg\" height=\"24px\"viewBox=\"0 0 24 24\"\n",
              "       width=\"24px\">\n",
              "    <path d=\"M0 0h24v24H0V0z\" fill=\"none\"/>\n",
              "    <path d=\"M18.56 5.44l.94 2.06.94-2.06 2.06-.94-2.06-.94-.94-2.06-.94 2.06-2.06.94zm-11 1L8.5 8.5l.94-2.06 2.06-.94-2.06-.94L8.5 2.5l-.94 2.06-2.06.94zm10 10l.94 2.06.94-2.06 2.06-.94-2.06-.94-.94-2.06-.94 2.06-2.06.94z\"/><path d=\"M17.41 7.96l-1.37-1.37c-.4-.4-.92-.59-1.43-.59-.52 0-1.04.2-1.43.59L10.3 9.45l-7.72 7.72c-.78.78-.78 2.05 0 2.83L4 21.41c.39.39.9.59 1.41.59.51 0 1.02-.2 1.41-.59l7.78-7.78 2.81-2.81c.8-.78.8-2.07 0-2.86zM5.41 20L4 18.59l7.72-7.72 1.47 1.35L5.41 20z\"/>\n",
              "  </svg>\n",
              "      </button>\n",
              "      \n",
              "  <style>\n",
              "    .colab-df-container {\n",
              "      display:flex;\n",
              "      flex-wrap:wrap;\n",
              "      gap: 12px;\n",
              "    }\n",
              "\n",
              "    .colab-df-convert {\n",
              "      background-color: #E8F0FE;\n",
              "      border: none;\n",
              "      border-radius: 50%;\n",
              "      cursor: pointer;\n",
              "      display: none;\n",
              "      fill: #1967D2;\n",
              "      height: 32px;\n",
              "      padding: 0 0 0 0;\n",
              "      width: 32px;\n",
              "    }\n",
              "\n",
              "    .colab-df-convert:hover {\n",
              "      background-color: #E2EBFA;\n",
              "      box-shadow: 0px 1px 2px rgba(60, 64, 67, 0.3), 0px 1px 3px 1px rgba(60, 64, 67, 0.15);\n",
              "      fill: #174EA6;\n",
              "    }\n",
              "\n",
              "    [theme=dark] .colab-df-convert {\n",
              "      background-color: #3B4455;\n",
              "      fill: #D2E3FC;\n",
              "    }\n",
              "\n",
              "    [theme=dark] .colab-df-convert:hover {\n",
              "      background-color: #434B5C;\n",
              "      box-shadow: 0px 1px 3px 1px rgba(0, 0, 0, 0.15);\n",
              "      filter: drop-shadow(0px 1px 2px rgba(0, 0, 0, 0.3));\n",
              "      fill: #FFFFFF;\n",
              "    }\n",
              "  </style>\n",
              "\n",
              "      <script>\n",
              "        const buttonEl =\n",
              "          document.querySelector('#df-26e2051d-c1ce-4832-89ae-2fe572f55791 button.colab-df-convert');\n",
              "        buttonEl.style.display =\n",
              "          google.colab.kernel.accessAllowed ? 'block' : 'none';\n",
              "\n",
              "        async function convertToInteractive(key) {\n",
              "          const element = document.querySelector('#df-26e2051d-c1ce-4832-89ae-2fe572f55791');\n",
              "          const dataTable =\n",
              "            await google.colab.kernel.invokeFunction('convertToInteractive',\n",
              "                                                     [key], {});\n",
              "          if (!dataTable) return;\n",
              "\n",
              "          const docLinkHtml = 'Like what you see? Visit the ' +\n",
              "            '<a target=\"_blank\" href=https://colab.research.google.com/notebooks/data_table.ipynb>data table notebook</a>'\n",
              "            + ' to learn more about interactive tables.';\n",
              "          element.innerHTML = '';\n",
              "          dataTable['output_type'] = 'display_data';\n",
              "          await google.colab.output.renderOutput(dataTable, element);\n",
              "          const docLink = document.createElement('div');\n",
              "          docLink.innerHTML = docLinkHtml;\n",
              "          element.appendChild(docLink);\n",
              "        }\n",
              "      </script>\n",
              "    </div>\n",
              "  </div>\n",
              "  "
            ]
          },
          "metadata": {},
          "execution_count": 23
        }
      ]
    },
    {
      "cell_type": "markdown",
      "source": [
        "### Gaussain NaiveBayes"
      ],
      "metadata": {
        "id": "x1-gxTLKMqI-"
      }
    },
    {
      "cell_type": "code",
      "source": [
        "# Using Gaussain naive bayes\n",
        "from sklearn.naive_bayes import GaussianNB\n",
        "gb = GaussianNB()\n",
        "gb.fit(X_train.toarray(), Y_train)"
      ],
      "metadata": {
        "id": "KCFL-DErJ5vt",
        "colab": {
          "base_uri": "https://localhost:8080/"
        },
        "outputId": "7c5dfad2-9c6c-40f4-88bc-d2eee41f5d74"
      },
      "execution_count": null,
      "outputs": [
        {
          "output_type": "execute_result",
          "data": {
            "text/plain": [
              "GaussianNB()"
            ]
          },
          "metadata": {},
          "execution_count": 59
        }
      ]
    },
    {
      "cell_type": "code",
      "source": [
        "# Identifying prior probabilites assigned by default\n",
        "gb.class_prior_"
      ],
      "metadata": {
        "id": "VKfQPnaqSXsz",
        "colab": {
          "base_uri": "https://localhost:8080/"
        },
        "outputId": "ba506433-b0c0-4889-bd5e-aa772374ce52"
      },
      "execution_count": null,
      "outputs": [
        {
          "output_type": "execute_result",
          "data": {
            "text/plain": [
              "array([0.48375, 0.51625])"
            ]
          },
          "metadata": {},
          "execution_count": 60
        }
      ]
    },
    {
      "cell_type": "code",
      "source": [
        "# Train accuracy\n",
        "gb.score(X_train.toarray(), Y_train)"
      ],
      "metadata": {
        "colab": {
          "base_uri": "https://localhost:8080/"
        },
        "id": "RdO1v3EPQ7Or",
        "outputId": "61d51c05-bfdf-4499-bf0d-3123426220b8"
      },
      "execution_count": null,
      "outputs": [
        {
          "output_type": "execute_result",
          "data": {
            "text/plain": [
              "0.95375"
            ]
          },
          "metadata": {},
          "execution_count": 77
        }
      ]
    },
    {
      "cell_type": "code",
      "source": [
        "predictions = nb.predict(X_test.toarray())\n",
        "predictions"
      ],
      "metadata": {
        "id": "PlkrAGkZNYHs",
        "colab": {
          "base_uri": "https://localhost:8080/"
        },
        "outputId": "6519e1a2-80df-4084-d848-f4a5f3d6ec64"
      },
      "execution_count": null,
      "outputs": [
        {
          "output_type": "execute_result",
          "data": {
            "text/plain": [
              "array([0, 1, 0, 0, 1, 1, 0, 0, 1, 0, 1, 1, 1, 0, 1, 0, 1, 0, 0, 1, 0, 0,\n",
              "       1, 0, 1, 0, 0, 0, 1, 0, 0, 1, 1, 1, 1, 1, 1, 0, 1, 1, 1, 0, 0, 0,\n",
              "       0, 1, 1, 0, 0, 0, 0, 1, 0, 1, 1, 1, 0, 1, 0, 0, 1, 0, 0, 1, 0, 0,\n",
              "       1, 0, 0, 1, 0, 1, 1, 0, 1, 0, 1, 0, 1, 1, 0, 0, 1, 0, 0, 1, 1, 0,\n",
              "       0, 0, 1, 0, 1, 1, 1, 0, 0, 1, 1, 1, 0, 1, 1, 1, 1, 1, 0, 1, 1, 1,\n",
              "       1, 0, 1, 0, 1, 0, 0, 0, 0, 1, 1, 1, 0, 1, 1, 1, 0, 0, 1, 0, 1, 0,\n",
              "       0, 1, 1, 0, 0, 1, 0, 0, 0, 0, 0, 1, 1, 0, 0, 1, 0, 1, 0, 1, 1, 0,\n",
              "       1, 1, 0, 0, 0, 0, 1, 1, 0, 1, 1, 1, 1, 0, 1, 1, 1, 0, 0, 1, 1, 0,\n",
              "       0, 0, 1, 0, 0, 1, 0, 1, 0, 1, 1, 0, 0, 0, 0, 1, 0, 1, 0, 1, 1, 1,\n",
              "       1, 1])"
            ]
          },
          "metadata": {},
          "execution_count": 61
        }
      ]
    },
    {
      "cell_type": "code",
      "source": [
        "print(confusion_matrix(Y_test, predictions))\n",
        "print('/n')\n",
        "print(classification_report(Y_test, predictions))"
      ],
      "metadata": {
        "id": "QRfey_iRNkCk",
        "colab": {
          "base_uri": "https://localhost:8080/"
        },
        "outputId": "36f70fa8-0a6c-4605-b301-6e42a56414bb"
      },
      "execution_count": null,
      "outputs": [
        {
          "output_type": "stream",
          "name": "stdout",
          "text": [
            "[[81 32]\n",
            " [17 70]]\n",
            "/n\n",
            "              precision    recall  f1-score   support\n",
            "\n",
            "           0       0.83      0.72      0.77       113\n",
            "           1       0.69      0.80      0.74        87\n",
            "\n",
            "    accuracy                           0.76       200\n",
            "   macro avg       0.76      0.76      0.75       200\n",
            "weighted avg       0.77      0.76      0.76       200\n",
            "\n"
          ]
        }
      ]
    },
    {
      "cell_type": "code",
      "source": [
        "from sklearn.model_selection import cross_validate, GridSearchCV\n",
        "params_NB = {'var_smoothing': np.logspace(0,-9, num=100)}\n",
        "gs_NB = GridSearchCV(estimator=gb, \n",
        "                 param_grid=params_NB, \n",
        "                 cv=3,  \n",
        "                 verbose=1, \n",
        "                 scoring='accuracy') "
      ],
      "metadata": {
        "id": "aSucjwD-No1q"
      },
      "execution_count": null,
      "outputs": []
    },
    {
      "cell_type": "code",
      "source": [
        "gs_NB.fit(X_train.toarray(), Y_train)\n",
        "gs_NB.best_params_"
      ],
      "metadata": {
        "id": "F30QxMy-OYG9",
        "colab": {
          "base_uri": "https://localhost:8080/"
        },
        "outputId": "98dcdde0-f806-4685-a019-60a491aa6e50"
      },
      "execution_count": null,
      "outputs": [
        {
          "output_type": "stream",
          "name": "stdout",
          "text": [
            "Fitting 3 folds for each of 100 candidates, totalling 300 fits\n"
          ]
        },
        {
          "output_type": "execute_result",
          "data": {
            "text/plain": [
              "{'var_smoothing': 0.006579332246575682}"
            ]
          },
          "metadata": {},
          "execution_count": 64
        }
      ]
    },
    {
      "cell_type": "code",
      "source": [
        "gb_new = GaussianNB(priors = [0.7, 0.3], var_smoothing = 0.006)\n",
        "gb_new.fit(X_train.toarray(), Y_train)\n",
        "pred_new = gb_new.predict(X_test.toarray())"
      ],
      "metadata": {
        "id": "YIZ_lcaJOoO9"
      },
      "execution_count": null,
      "outputs": []
    },
    {
      "cell_type": "code",
      "source": [
        "gb_new.score(X_train.toarray(), Y_train)"
      ],
      "metadata": {
        "colab": {
          "base_uri": "https://localhost:8080/"
        },
        "id": "SD12QGHwQZiZ",
        "outputId": "dd38f9c8-8671-401a-b614-4a2c73ed7502"
      },
      "execution_count": null,
      "outputs": [
        {
          "output_type": "execute_result",
          "data": {
            "text/plain": [
              "0.94625"
            ]
          },
          "metadata": {},
          "execution_count": 76
        }
      ]
    },
    {
      "cell_type": "code",
      "source": [
        "print(confusion_matrix(Y_test, pred_new))\n",
        "print('/n')\n",
        "print(classification_report(Y_test, pred_new))"
      ],
      "metadata": {
        "id": "AedMIPo8P1b0",
        "colab": {
          "base_uri": "https://localhost:8080/"
        },
        "outputId": "1c4c3461-228a-4912-f430-04001f952743"
      },
      "execution_count": null,
      "outputs": [
        {
          "output_type": "stream",
          "name": "stdout",
          "text": [
            "[[56 57]\n",
            " [13 74]]\n",
            "/n\n",
            "              precision    recall  f1-score   support\n",
            "\n",
            "           0       0.81      0.50      0.62       113\n",
            "           1       0.56      0.85      0.68        87\n",
            "\n",
            "    accuracy                           0.65       200\n",
            "   macro avg       0.69      0.67      0.65       200\n",
            "weighted avg       0.70      0.65      0.64       200\n",
            "\n"
          ]
        }
      ]
    },
    {
      "cell_type": "code",
      "source": [
        "misclassified = np.where(Y_test != pred_new)"
      ],
      "metadata": {
        "id": "j6VZJgyPP584"
      },
      "execution_count": null,
      "outputs": []
    },
    {
      "cell_type": "code",
      "source": [
        "misclassified"
      ],
      "metadata": {
        "id": "8yEsJOYjT_52",
        "colab": {
          "base_uri": "https://localhost:8080/"
        },
        "outputId": "28449046-809b-4d46-f41f-dfb2a87c640f"
      },
      "execution_count": null,
      "outputs": [
        {
          "output_type": "execute_result",
          "data": {
            "text/plain": [
              "(array([  0,   2,   4,   7,   8,  13,  27,  30,  35,  36,  40,  41,  46,\n",
              "         48,  49,  51,  53,  58,  59,  61,  62,  68,  73,  75,  76,  79,\n",
              "         84,  86,  88,  91,  95,  99, 101, 105, 111, 112, 113, 115, 118,\n",
              "        119, 123, 125, 126, 129, 132, 135, 136, 145, 146, 150, 152, 155,\n",
              "        160, 161, 164, 168, 170, 173, 174, 180, 185, 187, 188, 190, 191,\n",
              "        192, 193, 194, 195, 199]),)"
            ]
          },
          "metadata": {},
          "execution_count": 68
        }
      ]
    },
    {
      "cell_type": "code",
      "source": [
        "df_yelp['review'][0]"
      ],
      "metadata": {
        "id": "SsYh9hTcUAtF",
        "colab": {
          "base_uri": "https://localhost:8080/",
          "height": 36
        },
        "outputId": "0ed5936b-3619-4396-d679-47872be8a522"
      },
      "execution_count": null,
      "outputs": [
        {
          "output_type": "execute_result",
          "data": {
            "text/plain": [
              "'wow... loved this place.'"
            ],
            "application/vnd.google.colaboratory.intrinsic+json": {
              "type": "string"
            }
          },
          "metadata": {},
          "execution_count": 69
        }
      ]
    },
    {
      "cell_type": "code",
      "source": [
        "df_mis = df_yelp.iloc[misclassified]"
      ],
      "metadata": {
        "id": "0ln60XuHVF02"
      },
      "execution_count": null,
      "outputs": []
    },
    {
      "cell_type": "code",
      "source": [
        "df_mis.head(10)"
      ],
      "metadata": {
        "id": "oD8U9gZjXX-V",
        "colab": {
          "base_uri": "https://localhost:8080/",
          "height": 363
        },
        "outputId": "94dc8a23-7973-4dde-c700-93f2fbe589bc"
      },
      "execution_count": null,
      "outputs": [
        {
          "output_type": "execute_result",
          "data": {
            "text/plain": [
              "                                               review  is_positive\n",
              "0                            wow... loved this place.            1\n",
              "2           not tasty and the texture was just nasty.            0\n",
              "4   the selection on the menu was great and so wer...            1\n",
              "7   the potatoes were like rubber and you could te...            0\n",
              "8                           the fries were great too.            1\n",
              "13  i tried the cape cod ravoli, chicken,with cran...            1\n",
              "27  this hole in the wall has great mexican street...            1\n",
              "30  also there are combos like a burger, fries, an...            1\n",
              "35  the only redeeming quality of the restaurant w...            1\n",
              "36                    ample portions and good prices.            1"
            ],
            "text/html": [
              "\n",
              "  <div id=\"df-557ee6d6-a217-4677-ae74-d0ba8b00a4cb\">\n",
              "    <div class=\"colab-df-container\">\n",
              "      <div>\n",
              "<style scoped>\n",
              "    .dataframe tbody tr th:only-of-type {\n",
              "        vertical-align: middle;\n",
              "    }\n",
              "\n",
              "    .dataframe tbody tr th {\n",
              "        vertical-align: top;\n",
              "    }\n",
              "\n",
              "    .dataframe thead th {\n",
              "        text-align: right;\n",
              "    }\n",
              "</style>\n",
              "<table border=\"1\" class=\"dataframe\">\n",
              "  <thead>\n",
              "    <tr style=\"text-align: right;\">\n",
              "      <th></th>\n",
              "      <th>review</th>\n",
              "      <th>is_positive</th>\n",
              "    </tr>\n",
              "  </thead>\n",
              "  <tbody>\n",
              "    <tr>\n",
              "      <th>0</th>\n",
              "      <td>wow... loved this place.</td>\n",
              "      <td>1</td>\n",
              "    </tr>\n",
              "    <tr>\n",
              "      <th>2</th>\n",
              "      <td>not tasty and the texture was just nasty.</td>\n",
              "      <td>0</td>\n",
              "    </tr>\n",
              "    <tr>\n",
              "      <th>4</th>\n",
              "      <td>the selection on the menu was great and so wer...</td>\n",
              "      <td>1</td>\n",
              "    </tr>\n",
              "    <tr>\n",
              "      <th>7</th>\n",
              "      <td>the potatoes were like rubber and you could te...</td>\n",
              "      <td>0</td>\n",
              "    </tr>\n",
              "    <tr>\n",
              "      <th>8</th>\n",
              "      <td>the fries were great too.</td>\n",
              "      <td>1</td>\n",
              "    </tr>\n",
              "    <tr>\n",
              "      <th>13</th>\n",
              "      <td>i tried the cape cod ravoli, chicken,with cran...</td>\n",
              "      <td>1</td>\n",
              "    </tr>\n",
              "    <tr>\n",
              "      <th>27</th>\n",
              "      <td>this hole in the wall has great mexican street...</td>\n",
              "      <td>1</td>\n",
              "    </tr>\n",
              "    <tr>\n",
              "      <th>30</th>\n",
              "      <td>also there are combos like a burger, fries, an...</td>\n",
              "      <td>1</td>\n",
              "    </tr>\n",
              "    <tr>\n",
              "      <th>35</th>\n",
              "      <td>the only redeeming quality of the restaurant w...</td>\n",
              "      <td>1</td>\n",
              "    </tr>\n",
              "    <tr>\n",
              "      <th>36</th>\n",
              "      <td>ample portions and good prices.</td>\n",
              "      <td>1</td>\n",
              "    </tr>\n",
              "  </tbody>\n",
              "</table>\n",
              "</div>\n",
              "      <button class=\"colab-df-convert\" onclick=\"convertToInteractive('df-557ee6d6-a217-4677-ae74-d0ba8b00a4cb')\"\n",
              "              title=\"Convert this dataframe to an interactive table.\"\n",
              "              style=\"display:none;\">\n",
              "        \n",
              "  <svg xmlns=\"http://www.w3.org/2000/svg\" height=\"24px\"viewBox=\"0 0 24 24\"\n",
              "       width=\"24px\">\n",
              "    <path d=\"M0 0h24v24H0V0z\" fill=\"none\"/>\n",
              "    <path d=\"M18.56 5.44l.94 2.06.94-2.06 2.06-.94-2.06-.94-.94-2.06-.94 2.06-2.06.94zm-11 1L8.5 8.5l.94-2.06 2.06-.94-2.06-.94L8.5 2.5l-.94 2.06-2.06.94zm10 10l.94 2.06.94-2.06 2.06-.94-2.06-.94-.94-2.06-.94 2.06-2.06.94z\"/><path d=\"M17.41 7.96l-1.37-1.37c-.4-.4-.92-.59-1.43-.59-.52 0-1.04.2-1.43.59L10.3 9.45l-7.72 7.72c-.78.78-.78 2.05 0 2.83L4 21.41c.39.39.9.59 1.41.59.51 0 1.02-.2 1.41-.59l7.78-7.78 2.81-2.81c.8-.78.8-2.07 0-2.86zM5.41 20L4 18.59l7.72-7.72 1.47 1.35L5.41 20z\"/>\n",
              "  </svg>\n",
              "      </button>\n",
              "      \n",
              "  <style>\n",
              "    .colab-df-container {\n",
              "      display:flex;\n",
              "      flex-wrap:wrap;\n",
              "      gap: 12px;\n",
              "    }\n",
              "\n",
              "    .colab-df-convert {\n",
              "      background-color: #E8F0FE;\n",
              "      border: none;\n",
              "      border-radius: 50%;\n",
              "      cursor: pointer;\n",
              "      display: none;\n",
              "      fill: #1967D2;\n",
              "      height: 32px;\n",
              "      padding: 0 0 0 0;\n",
              "      width: 32px;\n",
              "    }\n",
              "\n",
              "    .colab-df-convert:hover {\n",
              "      background-color: #E2EBFA;\n",
              "      box-shadow: 0px 1px 2px rgba(60, 64, 67, 0.3), 0px 1px 3px 1px rgba(60, 64, 67, 0.15);\n",
              "      fill: #174EA6;\n",
              "    }\n",
              "\n",
              "    [theme=dark] .colab-df-convert {\n",
              "      background-color: #3B4455;\n",
              "      fill: #D2E3FC;\n",
              "    }\n",
              "\n",
              "    [theme=dark] .colab-df-convert:hover {\n",
              "      background-color: #434B5C;\n",
              "      box-shadow: 0px 1px 3px 1px rgba(0, 0, 0, 0.15);\n",
              "      filter: drop-shadow(0px 1px 2px rgba(0, 0, 0, 0.3));\n",
              "      fill: #FFFFFF;\n",
              "    }\n",
              "  </style>\n",
              "\n",
              "      <script>\n",
              "        const buttonEl =\n",
              "          document.querySelector('#df-557ee6d6-a217-4677-ae74-d0ba8b00a4cb button.colab-df-convert');\n",
              "        buttonEl.style.display =\n",
              "          google.colab.kernel.accessAllowed ? 'block' : 'none';\n",
              "\n",
              "        async function convertToInteractive(key) {\n",
              "          const element = document.querySelector('#df-557ee6d6-a217-4677-ae74-d0ba8b00a4cb');\n",
              "          const dataTable =\n",
              "            await google.colab.kernel.invokeFunction('convertToInteractive',\n",
              "                                                     [key], {});\n",
              "          if (!dataTable) return;\n",
              "\n",
              "          const docLinkHtml = 'Like what you see? Visit the ' +\n",
              "            '<a target=\"_blank\" href=https://colab.research.google.com/notebooks/data_table.ipynb>data table notebook</a>'\n",
              "            + ' to learn more about interactive tables.';\n",
              "          element.innerHTML = '';\n",
              "          dataTable['output_type'] = 'display_data';\n",
              "          await google.colab.output.renderOutput(dataTable, element);\n",
              "          const docLink = document.createElement('div');\n",
              "          docLink.innerHTML = docLinkHtml;\n",
              "          element.appendChild(docLink);\n",
              "        }\n",
              "      </script>\n",
              "    </div>\n",
              "  </div>\n",
              "  "
            ]
          },
          "metadata": {},
          "execution_count": 71
        }
      ]
    },
    {
      "cell_type": "code",
      "source": [],
      "metadata": {
        "id": "V27V4TqFePJa"
      },
      "execution_count": null,
      "outputs": []
    }
  ]
}